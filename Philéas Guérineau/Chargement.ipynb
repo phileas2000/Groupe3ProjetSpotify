{
 "cells": [
  {
   "cell_type": "code",
   "execution_count": 2,
   "id": "232ea490",
   "metadata": {},
   "outputs": [],
   "source": [
    "import pandas as pd, sqlite3 as sq"
   ]
  },
  {
   "cell_type": "code",
   "execution_count": 1,
   "id": "6fc5112d",
   "metadata": {},
   "outputs": [
    {
     "ename": "NameError",
     "evalue": "name 'sq' is not defined",
     "output_type": "error",
     "traceback": [
      "\u001b[1;31m---------------------------------------------------------------------------\u001b[0m",
      "\u001b[1;31mNameError\u001b[0m                                 Traceback (most recent call last)",
      "\u001b[1;32m<ipython-input-1-c245a8d29511>\u001b[0m in \u001b[0;36m<module>\u001b[1;34m\u001b[0m\n\u001b[1;32m----> 1\u001b[1;33m \u001b[0mconn\u001b[0m \u001b[1;33m=\u001b[0m \u001b[0msq\u001b[0m\u001b[1;33m.\u001b[0m\u001b[0mconnect\u001b[0m\u001b[1;33m(\u001b[0m\u001b[1;34m'spotify.db'\u001b[0m\u001b[1;33m)\u001b[0m\u001b[1;33m\u001b[0m\u001b[1;33m\u001b[0m\u001b[0m\n\u001b[0m\u001b[0;32m      2\u001b[0m \u001b[0mc\u001b[0m\u001b[1;33m=\u001b[0m\u001b[0mconn\u001b[0m\u001b[1;33m.\u001b[0m\u001b[0mcursor\u001b[0m\u001b[1;33m(\u001b[0m\u001b[1;33m)\u001b[0m\u001b[1;33m\u001b[0m\u001b[1;33m\u001b[0m\u001b[0m\n\u001b[0;32m      3\u001b[0m \u001b[1;33m\u001b[0m\u001b[0m\n\u001b[0;32m      4\u001b[0m \u001b[1;32mdef\u001b[0m \u001b[0mimporter\u001b[0m\u001b[1;33m(\u001b[0m\u001b[1;33m)\u001b[0m\u001b[1;33m:\u001b[0m\u001b[1;33m\u001b[0m\u001b[1;33m\u001b[0m\u001b[0m\n\u001b[0;32m      5\u001b[0m     \u001b[0mc\u001b[0m\u001b[1;33m.\u001b[0m\u001b[0mexecute\u001b[0m\u001b[1;33m(\u001b[0m\u001b[1;34m\"DROP TABLE IF EXISTS all_chansons\"\u001b[0m\u001b[1;33m)\u001b[0m\u001b[1;33m\u001b[0m\u001b[1;33m\u001b[0m\u001b[0m\n",
      "\u001b[1;31mNameError\u001b[0m: name 'sq' is not defined"
     ]
    }
   ],
   "source": [
    "\n",
    "conn = sq.connect('spotify.db')\n",
    "c=conn.cursor()\n",
    "\n",
    "def importer():\n",
    "    c.execute(\"DROP TABLE IF EXISTS all_chansons\")\n",
    "    donnees = pd.read_csv(r'C:\\Users\\Simplon 1\\Documents\\Projets\\Spotify\\Spotify(1)\\chansons.csv' ,encoding=\"UTF8\")\n",
    "    donnees.to_sql('Chansons', conn, if_exists='replace', index = True)\n",
    "    \n",
    "    \n",
    "\n",
    "importer()   \n",
    "\n",
    "print(pd.read_sql_query(\"PRAGMA index_list('chansons')\",conn))\n",
    "\n",
    "c.execute('SELECT * FROM sqlite_master')\n",
    "rows = c.fetchall()\n",
    "for row in rows:\n",
    "    print(row)\n",
    "    print(\"\\n\")\n",
    "\n",
    "conn.commit();\n",
    "conn.close()\n"
   ]
  },
  {
   "cell_type": "code",
   "execution_count": 3,
   "id": "f7447e7b",
   "metadata": {},
   "outputs": [
    {
     "name": "stdout",
     "output_type": "stream",
     "text": [
      "('table', 'TableTest', 'TableTest', 4, 'CREATE TABLE \"TableTest\" (\\n\"id colonne1 colonne2\" TEXT\\n)')\n",
      "\n",
      "\n",
      "('table', 'DataTest', 'DataTest', 2, 'CREATE TABLE \"DataTest\" (\\n\"index\" INTEGER,\\n  \"id colonne1 colonne2\" TEXT\\n)')\n",
      "\n",
      "\n",
      "('index', 'ix_DataTest_index', 'DataTest', 65562, 'CREATE INDEX \"ix_DataTest_index\"ON \"DataTest\" (\"index\")')\n",
      "\n",
      "\n",
      "('table', 'par_artistes', 'par_artistes', 6108, 'CREATE TABLE \"par_artistes\" (\\n\"index\" INTEGER,\\n  \"genres\" TEXT,\\n  \"artists\" TEXT,\\n  \"acousticness\" REAL,\\n  \"danceability\" REAL,\\n  \"duration_ms\" REAL,\\n  \"energy\" REAL,\\n  \"instrumentalness\" REAL,\\n  \"liveness\" REAL,\\n  \"loudness\" REAL,\\n  \"speechiness\" REAL,\\n  \"tempo\" REAL,\\n  \"valence\" REAL,\\n  \"popularity\" REAL,\\n  \"key\" INTEGER,\\n  \"mode\" INTEGER,\\n  \"count\" INTEGER\\n)')\n",
      "\n",
      "\n",
      "('index', 'ix_par_artistes_index', 'par_artistes', 7000, 'CREATE INDEX \"ix_par_artistes_index\"ON \"par_artistes\" (\"index\")')\n",
      "\n",
      "\n",
      "('table', 'par_genres', 'par_genres', 2642, 'CREATE TABLE \"par_genres\" (\\n\"index\" INTEGER,\\n  \"mode\" INTEGER,\\n  \"genres\" TEXT,\\n  \"acousticness\" REAL,\\n  \"danceability\" REAL,\\n  \"duration_ms\" REAL,\\n  \"energy\" REAL,\\n  \"instrumentalness\" REAL,\\n  \"liveness\" REAL,\\n  \"loudness\" REAL,\\n  \"speechiness\" REAL,\\n  \"tempo\" REAL,\\n  \"valence\" REAL,\\n  \"popularity\" REAL,\\n  \"key\" INTEGER\\n)')\n",
      "\n",
      "\n",
      "('index', 'ix_par_genres_index', 'par_genres', 66464, 'CREATE INDEX \"ix_par_genres_index\"ON \"par_genres\" (\"index\")')\n",
      "\n",
      "\n",
      "('table', 'par_annees', 'par_annees', 85402, 'CREATE TABLE \"par_annees\" (\\n\"index\" INTEGER,\\n  \"mode\" INTEGER,\\n  \"year\" INTEGER,\\n  \"acousticness\" REAL,\\n  \"danceability\" REAL,\\n  \"duration_ms\" REAL,\\n  \"energy\" REAL,\\n  \"instrumentalness\" REAL,\\n  \"liveness\" REAL,\\n  \"loudness\" REAL,\\n  \"speechiness\" REAL,\\n  \"tempo\" REAL,\\n  \"valence\" REAL,\\n  \"popularity\" REAL,\\n  \"key\" INTEGER\\n)')\n",
      "\n",
      "\n",
      "('index', 'ix_par_annees_index', 'par_annees', 85408, 'CREATE INDEX \"ix_par_annees_index\"ON \"par_annees\" (\"index\")')\n",
      "\n",
      "\n",
      "('table', 'artistes', 'artistes', 3, 'CREATE TABLE \"artistes\" (\\n\"index\" INTEGER,\\n  \"id\" TEXT,\\n  \"followers\" REAL,\\n  \"genres\" TEXT,\\n  \"name\" TEXT,\\n  \"popularity\" INTEGER\\n)')\n",
      "\n",
      "\n",
      "('index', 'ix_artistes_index', 'artistes', 17282, 'CREATE INDEX \"ix_artistes_index\"ON \"artistes\" (\"index\")')\n",
      "\n",
      "\n",
      "('table', 'chansons', 'chansons', 2068, 'CREATE TABLE \"chansons\" (\\n\"index\" INTEGER,\\n  \"id\" TEXT,\\n  \"name\" TEXT,\\n  \"popularity\" INTEGER,\\n  \"duration_ms\" INTEGER,\\n  \"explicit\" INTEGER,\\n  \"artists\" TEXT,\\n  \"id_artists\" TEXT,\\n  \"release_date\" TEXT,\\n  \"danceability\" REAL,\\n  \"energy\" REAL,\\n  \"key\" INTEGER,\\n  \"loudness\" REAL,\\n  \"mode\" INTEGER,\\n  \"speechiness\" REAL,\\n  \"acousticness\" REAL,\\n  \"instrumentalness\" REAL,\\n  \"liveness\" REAL,\\n  \"valence\" REAL,\\n  \"tempo\" REAL,\\n  \"time_signature\" INTEGER\\n)')\n",
      "\n",
      "\n",
      "('index', 'ix_chansons_index', 'chansons', 3059, 'CREATE INDEX \"ix_chansons_index\"ON \"chansons\" (\"index\")')\n",
      "\n",
      "\n",
      "('index', 'ix_chansons_id_artists', 'chansons', 2046, 'CREATE INDEX ix_chansons_id_artists ON chansons(id_artists)')\n",
      "\n",
      "\n",
      "('index', 'ix_chansons_popularity', 'chansons', 90449, 'CREATE INDEX ix_chansons_popularity ON chansons(popularity)')\n",
      "\n",
      "\n",
      "('index', 'ix_chansons_popularity_id', 'chansons', 93050, 'CREATE INDEX ix_chansons_popularity_id ON chansons(popularity,id)')\n",
      "\n",
      "\n",
      "('table', 'juction_chansons_artistes', 'juction_chansons_artistes', 70154, 'CREATE TABLE juction_chansons_artistes (\\n               chansons_key INTEGER PRIMARY KEY,\\n               FOREIGN KEY(chansons_key) REFERENCES artistes(id)\\n              )')\n",
      "\n",
      "\n"
     ]
    }
   ],
   "source": [
    "conn = sq.connect('spotify.db')\n",
    "c=conn.cursor()\n",
    "c=conn.cursor()\n",
    "\n",
    "c.execute('SELECT * FROM sqlite_master WHERE name=''')\n",
    "rows = c.fetchall()\n",
    "for row in rows:\n",
    "    print(row)\n",
    "    print(\"\\n\")\n",
    "    \n",
    "conn.close()"
   ]
  },
  {
   "cell_type": "code",
   "execution_count": null,
   "id": "5ca1a2fa",
   "metadata": {},
   "outputs": [],
   "source": []
  },
  {
   "cell_type": "code",
   "execution_count": null,
   "id": "90b0ba2f",
   "metadata": {},
   "outputs": [],
   "source": []
  }
 ],
 "metadata": {
  "kernelspec": {
   "display_name": "Python 3",
   "language": "python",
   "name": "python3"
  },
  "language_info": {
   "codemirror_mode": {
    "name": "ipython",
    "version": 3
   },
   "file_extension": ".py",
   "mimetype": "text/x-python",
   "name": "python",
   "nbconvert_exporter": "python",
   "pygments_lexer": "ipython3",
   "version": "3.8.8"
  }
 },
 "nbformat": 4,
 "nbformat_minor": 5
}
