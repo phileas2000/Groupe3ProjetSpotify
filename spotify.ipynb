{
 "cells": [
  {
   "cell_type": "code",
   "execution_count": null,
   "id": "72a4486f",
   "metadata": {},
   "outputs": [],
   "source": [
    "import sqlite3 as sql\n",
    "import pandas as pd\n",
    "import numpy as np \n",
    "import matplotlib.pyplot as plt \n",
    "import seaborn as sns\n",
    "from collections import Counter \n",
    "from sklearn.preprocessing import StandardScaler\n",
    "from sklearn import preprocessing\n",
    "from sklearn.linear_model import LinearRegression\n",
    "from sklearn.model_selection import train_test_split"
   ]
  },
  {
   "cell_type": "code",
   "execution_count": null,
   "id": "0beb4bdc",
   "metadata": {},
   "outputs": [],
   "source": [
    "# Creer une connection d'objets,\n",
    "# Creer une nouvelle db s'elle n'existe pas \n",
    "# connectez-le, s'il existe, connectez-vous.\n",
    "connection = sql.connect('spotifyprojet.db')\n",
    "\n",
    "# Créer un objet curseur\n",
    "curs = connection.cursor()"
   ]
  },
  {
   "cell_type": "code",
   "execution_count": null,
   "id": "dd4c0b08",
   "metadata": {},
   "outputs": [],
   "source": [
    "#Charger les données des fichier \"artiste.CSV\" et \"chansons.CSV\" dans Pandas DataFrame\n",
    "artistes = pd.read_csv(r'C:\\Users\\Simplon\\Documents\\Spotify\\artistes.csv', encoding=\"UTF8\") \n",
    "chansons = pd.read_csv(r'C:\\Users\\Simplon\\Documents\\Spotify\\chansons.csv', encoding=\"UTF8\") "
   ]
  },
  {
   "cell_type": "code",
   "execution_count": null,
   "id": "28779050",
   "metadata": {},
   "outputs": [],
   "source": [
    "# Écrire les données dans une table db SQlite\n",
    "artistes.to_sql('spotifyprojet', connection, if_exists='replace', index=False)\n",
    "chansons.to_sql('spotifyprojet', connection, if_exists='replace', index=False)"
   ]
  },
  {
   "cell_type": "code",
   "execution_count": null,
   "id": "ad3e4b47",
   "metadata": {},
   "outputs": [],
   "source": [
    "connection.close()"
   ]
  },
  {
   "cell_type": "code",
   "execution_count": null,
   "id": "18c29f24",
   "metadata": {},
   "outputs": [],
   "source": [
    "#nettoyer la colonne artists et id artists dans la table chansons\n",
    "\n",
    "chansons[\"artists\"]=chansons[\"artists\"].str.replace(\"[\", \"\")\n",
    "chansons[\"artists\"]=chansons[\"artists\"].str.replace(\"]\", \"\")\n",
    "chansons[\"artists\"]=chansons[\"artists\"].str.replace(\"'\", \"\")\n",
    "\n",
    "chansons[\"id_artists\"]=chansons[\"id_artists\"].str.replace(\"[\", \"\")\n",
    "chansons[\"id_artists\"]=chansons[\"id_artists\"].str.replace(\"]\", \"\")\n",
    "chansons[\"id_artists\"]=chansons[\"id_artists\"].str.replace(\"'\", \"\")"
   ]
  },
  {
   "cell_type": "code",
   "execution_count": null,
   "id": "bd12264b",
   "metadata": {},
   "outputs": [],
   "source": [
    "# Verifier s'il manque des donnée artistes \n",
    "a=artistes.isna().sum().sum() \n",
    "print(a)"
   ]
  },
  {
   "cell_type": "code",
   "execution_count": null,
   "id": "188b7fb2",
   "metadata": {},
   "outputs": [],
   "source": [
    "# Verifier s'il manque des donnée chansons\n",
    "b=chansons.isna().sum().sum() \n",
    "print(b)"
   ]
  },
  {
   "cell_type": "code",
   "execution_count": null,
   "id": "80f0c749",
   "metadata": {},
   "outputs": [],
   "source": [
    "# enelever les colonne avec des valeur NAN\n",
    "chansons.dropna(inplace = True)\n",
    "artistes.dropna(inplace = True)\n",
    "# dropna(inplace = True) sans declarer chansons_na "
   ]
  },
  {
   "cell_type": "code",
   "execution_count": null,
   "id": "dccf2428",
   "metadata": {},
   "outputs": [],
   "source": [
    "#vérifier si les NAN sont bien enlevés\n",
    "chansons.describe()"
   ]
  },
  {
   "cell_type": "code",
   "execution_count": null,
   "id": "c525a2e7",
   "metadata": {},
   "outputs": [],
   "source": [
    "#Convert Milli secs duration into minutes\n",
    "chansons['duration_min'] = chansons['duration_ms']/60000\n",
    "chansons['duration_min'] = chansons['duration_min'].round(2)"
   ]
  },
  {
   "cell_type": "code",
   "execution_count": null,
   "id": "d9c31b7b",
   "metadata": {},
   "outputs": [],
   "source": [
    "def to_year(x):\n",
    "    result = []\n",
    "    x.to_string()\n",
    "    for i in x:\n",
    "        result.append(int(i[:4]))\n",
    "    return result\n",
    "\n",
    "chansons['year'] = to_year(chansons.release_date)"
   ]
  },
  {
   "cell_type": "code",
   "execution_count": null,
   "id": "a5393da8",
   "metadata": {},
   "outputs": [],
   "source": [
    "chansons"
   ]
  },
  {
   "cell_type": "code",
   "execution_count": null,
   "id": "25d58db7",
   "metadata": {
    "scrolled": true
   },
   "outputs": [],
   "source": [
    "chansons.drop(columns=['duration_ms'], inplace = True)\n",
    "chansons"
   ]
  },
  {
   "cell_type": "code",
   "execution_count": null,
   "id": "f4078f57",
   "metadata": {},
   "outputs": [],
   "source": [
    "# enelver les colonnes name id id_artists artists release_date\n",
    "chansons_num = chansons.drop(columns=['name','id','id_artists','artists','release_date'])\n",
    "z = chansons_num.values"
   ]
  },
  {
   "cell_type": "code",
   "execution_count": null,
   "id": "842ec2eb",
   "metadata": {},
   "outputs": [],
   "source": [
    "# normaliser ma table chansons\n",
    "\n",
    "min_max_scaler = preprocessing.MinMaxScaler()\n",
    "x_scaled = min_max_scaler.fit_transform(z)\n",
    "chansons1 = pd.DataFrame(x_scaled)"
   ]
  },
  {
   "cell_type": "code",
   "execution_count": null,
   "id": "ed55b95c",
   "metadata": {
    "scrolled": true
   },
   "outputs": [],
   "source": [
    "#tracer un tableau de corrélation \n",
    "\n",
    "corr = chansons_num.corr() \n",
    "plt.figure(figsize=(20,10))\n",
    "sns.set(style=\"whitegrid\")\n",
    "sns.heatmap(corr,annot=True,cmap='BrBG_r',annot_kws={\"fontsize\":12})"
   ]
  },
  {
   "cell_type": "raw",
   "id": "ff698b4a",
   "metadata": {},
   "source": [
    "# remarque : relation positive valence/danceabillity & energy/loudness \n",
    "           relation negative acousticness/energy"
   ]
  },
  {
   "cell_type": "code",
   "execution_count": null,
   "id": "407df95e",
   "metadata": {},
   "outputs": [],
   "source": [
    "#créer table de nb de chansons par artists \n",
    "song_per_artists = chansons.value_counts(subset=['artists']).reset_index(name=\"count\")\n",
    "song_per_artists.head(20)"
   ]
  },
  {
   "cell_type": "code",
   "execution_count": null,
   "id": "6a80cfd0",
   "metadata": {},
   "outputs": [],
   "source": [
    "#créer table de nb de chansons par artists \n",
    "song_per_artists = chansons.value_counts(subset=['id_artists']).reset_index(name=\"count\")\n",
    "song_per_artists.head(20)"
   ]
  },
  {
   "cell_type": "code",
   "execution_count": null,
   "id": "9280842a",
   "metadata": {},
   "outputs": [],
   "source": [
    "song_per_artists.describe()"
   ]
  },
  {
   "cell_type": "code",
   "execution_count": null,
   "id": "d668923c",
   "metadata": {},
   "outputs": [],
   "source": [
    "# Figure nb de chanson/artists\n",
    "fig = plt.figure(figsize=(12,6))\n",
    "echelle = fig.add_subplot(1,1,1)\n",
    "song_per_artists['count'].plot(kind = 'hist',bins=700)\n",
    "echelle.set_ylim([0,8000])\n",
    "echelle.set_xlim([0,150])\n",
    "plt.title('nb chansons/artists')\n",
    "plt.show()"
   ]
  },
  {
   "cell_type": "code",
   "execution_count": null,
   "id": "eb7fcb2a",
   "metadata": {},
   "outputs": [],
   "source": [
    "# Figure popularity\n",
    "fig = plt.figure(figsize=(18,8))\n",
    "echelle = fig.add_subplot(1,1,1)\n",
    "chansons[\"popularity\"].plot(kind = 'hist',bins=100)\n",
    "plt.title('popularity')\n",
    "plt.xlabel('popularity des chansons')\n",
    "plt.ylabel('nombre de chansons')\n",
    "plt.show()"
   ]
  },
  {
   "cell_type": "code",
   "execution_count": null,
   "id": "f4fe6871",
   "metadata": {},
   "outputs": [],
   "source": [
    "fig = plt.figure(figsize=(18,8))\n",
    "echelle = fig.add_subplot(1,1,1)\n",
    "chansons[\"duration_min\"].plot(kind = 'hist',bins=1000)\n",
    "echelle.set_xlim([0,13])\n",
    "plt.title('temps moyen des morceaux')\n",
    "plt.xlabel('durée des chansons')\n",
    "plt.ylabel('nombre de chansons')\n",
    "plt.show()"
   ]
  },
  {
   "cell_type": "code",
   "execution_count": null,
   "id": "4038f2d9",
   "metadata": {},
   "outputs": [],
   "source": [
    "fig = plt.figure(figsize=(18,8))\n",
    "echelle = fig.add_subplot(1,1,1)\n",
    "chansons[\"tempo\"].plot(kind = 'hist',bins=1000)\n",
    "echelle.set_xlim([50,220])\n",
    "plt.title('tempo')\n",
    "plt.xlabel('tempo des chansons')\n",
    "plt.ylabel('nombre de chansons')\n",
    "plt.show()"
   ]
  },
  {
   "cell_type": "code",
   "execution_count": null,
   "id": "92fbc66c",
   "metadata": {},
   "outputs": [],
   "source": [
    "L = chansons[\"energy\"]\n",
    "E = chansons[\"loudness\"]\n",
    "plt.scatter(L, E)\n",
    "plt.show()"
   ]
  },
  {
   "cell_type": "code",
   "execution_count": null,
   "id": "6d9ee7f2",
   "metadata": {},
   "outputs": [],
   "source": [
    "A = chansons[\"valence\"]\n",
    "B = chansons[\"danceability\"]\n",
    "plt.scatter(A, B)\n",
    "plt.show()"
   ]
  },
  {
   "cell_type": "code",
   "execution_count": null,
   "id": "2af3bbcd",
   "metadata": {},
   "outputs": [],
   "source": [
    "L = chansons[\"energy\"]\n",
    "E = chansons[\"acousticness\"]\n",
    "plt.scatter(L, E)\n",
    "plt.show()"
   ]
  },
  {
   "cell_type": "code",
   "execution_count": null,
   "id": "ebd3a822",
   "metadata": {},
   "outputs": [],
   "source": [
    "columns = [\"acousticness\",\"danceability\",\"energy\",\"speechiness\",\"liveness\",\"valence\"]\n",
    "fig = plt.figure(figsize=(30,30))\n",
    "echelle = fig.add_subplot(1,1,1)\n",
    "echelle.set_xlim([1940,2020])\n",
    "\n",
    "for c in columns:\n",
    "    x = chansons.groupby('year')[c].mean()\n",
    "    sns.lineplot(x.index,x,label=c,lw=4)\n",
    "\n",
    "plt.title('Audio characteristics over the years', fontsize=40)\n",
    "plt.xlabel('Year',fontsize=30)\n",
    "plt.ylabel('Characteristics',fontsize=30)\n",
    "plt.legend(fancybox=True, framealpha=1, shadow=True, borderpad=1, prop={'size': 20}, loc = 'upper right')\n",
    "plt.show()"
   ]
  },
  {
   "cell_type": "code",
   "execution_count": null,
   "id": "b4d7b4d8",
   "metadata": {},
   "outputs": [],
   "source": [
    "# trier les données du fichiers artistes pour le parametre popularity en ordre decroissant\n",
    "artistes.sort_values('popularity', ascending = False, inplace = True)"
   ]
  },
  {
   "cell_type": "code",
   "execution_count": null,
   "id": "55f20c7c",
   "metadata": {},
   "outputs": [],
   "source": [
    "# trier les données du fichiers chansons pour le parametre popularity en ordre decroissant\n",
    "chansons.sort_values('tempo', ascending = False, inplace = True)"
   ]
  },
  {
   "cell_type": "code",
   "execution_count": null,
   "id": "a44bd249",
   "metadata": {},
   "outputs": [],
   "source": [
    "#trier les données du fichiers artistes pour le parametre followers en ordre decroissant\n",
    "artistes.sort_values('followers', ascending = False, inplace = True)"
   ]
  },
  {
   "cell_type": "code",
   "execution_count": null,
   "id": "7b001d36",
   "metadata": {},
   "outputs": [],
   "source": [
    "#afficher les 10 chansons les plus populaires à base da la popularity\n",
    "chansons_popu =chansons.groupby(\"name\")['tempo'].mean().sort_values(ascending=True).head(4000)\n",
    "print(chansons_popu)"
   ]
  },
  {
   "cell_type": "code",
   "execution_count": null,
   "id": "cc582c33",
   "metadata": {},
   "outputs": [],
   "source": [
    "#afficher les 10 artistes les plus populaires à base da la popularity\n",
    "artistes_popu =artistes.groupby(\"name\")['popularity'].mean().sort_values(ascending=False).head(10)\n",
    "print(artistes_popu)"
   ]
  },
  {
   "cell_type": "code",
   "execution_count": null,
   "id": "cc430639",
   "metadata": {},
   "outputs": [],
   "source": [
    "#afficher les 10 chansons les plus suivi à base de followers\n",
    "artistes_follow =artistes.groupby(\"name\")['followers'].mean().sort_values(ascending=False)\n",
    "print(artistes_follow)"
   ]
  },
  {
   "cell_type": "code",
   "execution_count": null,
   "id": "6f2bbdf6",
   "metadata": {},
   "outputs": [],
   "source": [
    "#fusionner mes deux tables \n",
    "fusion = chansons.merge(artistes, how='left', left_on = 'id_artists', right_on='id' )\n",
    "fusion.info()"
   ]
  },
  {
   "cell_type": "code",
   "execution_count": null,
   "id": "dd8ebc53",
   "metadata": {},
   "outputs": [],
   "source": [
    "fusion.to_csv (r'E:\\table_fusion.csv')"
   ]
  },
  {
   "cell_type": "code",
   "execution_count": null,
   "id": "ad08f702",
   "metadata": {},
   "outputs": [],
   "source": [
    "q = fusion.isna().sum()\n",
    "print(q)"
   ]
  },
  {
   "cell_type": "code",
   "execution_count": null,
   "id": "6a2e498e",
   "metadata": {},
   "outputs": [],
   "source": [
    "# Recup chansons id_y = na \n",
    "fusion_na = fusion[fusion[\"id_y\"].isna()]\n",
    "fusion_na"
   ]
  },
  {
   "cell_type": "code",
   "execution_count": null,
   "id": "92dec760",
   "metadata": {},
   "outputs": [],
   "source": [
    "#drop les lignes qui manquent entre les deux table \n",
    "fusion.dropna(inplace=True)\n",
    "fusion.info()"
   ]
  },
  {
   "cell_type": "code",
   "execution_count": null,
   "id": "2620a4da",
   "metadata": {
    "scrolled": true
   },
   "outputs": [],
   "source": [
    "# visualiser la corrélation de table fusion\n",
    "corr = fusion.corr()\n",
    "plt.figure(figsize=(20,10))\n",
    "sns.set(style=\"whitegrid\")\n",
    "sns.heatmap(corr,annot=True,cmap='BrBG_r',annot_kws={\"fontsize\":12})\n"
   ]
  },
  {
   "cell_type": "raw",
   "id": "2d815f98",
   "metadata": {},
   "source": [
    "#tracer un diagramme de top 10 chansons\n",
    "\n",
    "fig, axis = plt.subplots(figsize = (10,5))\n",
    "popular = fusion.groupby(\"name_x\")['popularity_x'].mean().sort_values(ascending=False).head(10)\n",
    "axis = sns.barplot(popular,popular.index,palette=\"Set1\",orient = 'h')\n",
    "axis.set_title('Top 10 Popular Tracks')\n",
    "axis.set_ylabel('Popularity')\n",
    "axis.set_xlabel('chanson')\n",
    "plt.xticks(rotation = 90)"
   ]
  },
  {
   "cell_type": "code",
   "execution_count": null,
   "id": "b8a62a66",
   "metadata": {},
   "outputs": [],
   "source": [
    "x = fusion.drop(columns=['name_x','name_y','id_x','id_y','id_artists','artists','release_date','genres'])"
   ]
  },
  {
   "cell_type": "code",
   "execution_count": null,
   "id": "b84bccd9",
   "metadata": {},
   "outputs": [],
   "source": [
    "#date release à nettoyer \n",
    "y = pd.DataFrame(fusion.iloc[:,2:4].values)"
   ]
  },
  {
   "cell_type": "code",
   "execution_count": null,
   "id": "1a1763e5",
   "metadata": {},
   "outputs": [],
   "source": [
    "scaler = preprocessing.StandardScaler()\n",
    "Y_scaled= pd.DataFrame(scaler.fit_transform(y),columns=y.columns)"
   ]
  },
  {
   "cell_type": "code",
   "execution_count": null,
   "id": "061c5380",
   "metadata": {},
   "outputs": [],
   "source": [
    "X_scaled = pd.DataFrame(scaler.fit_transform(x),columns=x.columns)\n",
    "\n",
    "y1 = Y_scaled.iloc[:,0].values"
   ]
  },
  {
   "cell_type": "code",
   "execution_count": null,
   "id": "2cd64f18",
   "metadata": {},
   "outputs": [],
   "source": [
    "X_train, X_test, y_train, y_test = train_test_split( x, y1, test_size=0.3, random_state=0)"
   ]
  },
  {
   "cell_type": "code",
   "execution_count": null,
   "id": "ee012b71",
   "metadata": {},
   "outputs": [],
   "source": [
    "model = LinearRegression()\n",
    "\n",
    "model.fit(X_train, y_train)"
   ]
  },
  {
   "cell_type": "code",
   "execution_count": null,
   "id": "fb0ac469",
   "metadata": {
    "scrolled": true
   },
   "outputs": [],
   "source": [
    "y_pred = model.predict(X_test)"
   ]
  },
  {
   "cell_type": "code",
   "execution_count": null,
   "id": "48302ad9",
   "metadata": {},
   "outputs": [],
   "source": [
    "model.score(y_test, y_pred)"
   ]
  },
  {
   "cell_type": "markdown",
   "id": "60737655",
   "metadata": {},
   "source": [
    "### "
   ]
  },
  {
   "cell_type": "code",
   "execution_count": null,
   "id": "3099afd0",
   "metadata": {
    "scrolled": true
   },
   "outputs": [],
   "source": []
  },
  {
   "cell_type": "code",
   "execution_count": null,
   "id": "25b98341",
   "metadata": {},
   "outputs": [],
   "source": []
  }
 ],
 "metadata": {
  "kernelspec": {
   "display_name": "Python 3",
   "language": "python",
   "name": "python3"
  },
  "language_info": {
   "codemirror_mode": {
    "name": "ipython",
    "version": 3
   },
   "file_extension": ".py",
   "mimetype": "text/x-python",
   "name": "python",
   "nbconvert_exporter": "python",
   "pygments_lexer": "ipython3",
   "version": "3.8.8"
  }
 },
 "nbformat": 4,
 "nbformat_minor": 5
}
