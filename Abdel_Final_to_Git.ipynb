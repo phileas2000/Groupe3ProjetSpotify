{
 "cells": [
  {
   "cell_type": "markdown",
   "id": "7d07800e",
   "metadata": {},
   "source": [
    "#  Version with SQL Db"
   ]
  },
  {
   "cell_type": "code",
   "execution_count": 1,
   "id": "c8f37423",
   "metadata": {},
   "outputs": [],
   "source": [
    "import sqlite3 as sq\n",
    "import pandas as pd\n",
    "import numpy as np\n",
    "import csv"
   ]
  },
  {
   "cell_type": "code",
   "execution_count": 2,
   "id": "e1e90f1e",
   "metadata": {},
   "outputs": [],
   "source": [
    "conn = sq.connect('E:\\BootCamp\\Brief1\\Db\\Brief1.db')"
   ]
  },
  {
   "cell_type": "code",
   "execution_count": 3,
   "id": "d6481d98",
   "metadata": {},
   "outputs": [],
   "source": [
    "df_artistes = pd.read_sql_query ('SELECT * FROM \"artistes\"',conn)"
   ]
  },
  {
   "cell_type": "code",
   "execution_count": 4,
   "id": "da54b3c0",
   "metadata": {},
   "outputs": [],
   "source": [
    "df_chansons = pd.read_sql_query ('SELECT * FROM \"chansons\"',conn)"
   ]
  },
  {
   "cell_type": "code",
   "execution_count": 5,
   "id": "50d89234",
   "metadata": {},
   "outputs": [],
   "source": [
    "conn.close()"
   ]
  },
  {
   "cell_type": "code",
   "execution_count": 6,
   "id": "9d33ce51",
   "metadata": {},
   "outputs": [
    {
     "name": "stdout",
     "output_type": "stream",
     "text": [
      "<class 'pandas.core.frame.DataFrame'>\n",
      "RangeIndex: 1104349 entries, 0 to 1104348\n",
      "Data columns (total 5 columns):\n",
      " #   Column      Non-Null Count    Dtype  \n",
      "---  ------      --------------    -----  \n",
      " 0   id          1104349 non-null  object \n",
      " 1   followers   1104336 non-null  float64\n",
      " 2   genres      1104349 non-null  object \n",
      " 3   name        1104349 non-null  object \n",
      " 4   popularity  1104349 non-null  int64  \n",
      "dtypes: float64(1), int64(1), object(3)\n",
      "memory usage: 42.1+ MB\n",
      "<class 'pandas.core.frame.DataFrame'>\n",
      "RangeIndex: 586672 entries, 0 to 586671\n",
      "Data columns (total 20 columns):\n",
      " #   Column            Non-Null Count   Dtype  \n",
      "---  ------            --------------   -----  \n",
      " 0   id                586672 non-null  object \n",
      " 1   name              586601 non-null  object \n",
      " 2   popularity        586672 non-null  int64  \n",
      " 3   duration_ms       586672 non-null  int64  \n",
      " 4   explicit          586672 non-null  int64  \n",
      " 5   artists           586672 non-null  object \n",
      " 6   id_artists        586672 non-null  object \n",
      " 7   release_date      586672 non-null  object \n",
      " 8   danceability      586672 non-null  float64\n",
      " 9   energy            586672 non-null  float64\n",
      " 10  key               586672 non-null  int64  \n",
      " 11  loudness          586672 non-null  float64\n",
      " 12  mode              586672 non-null  int64  \n",
      " 13  speechiness       586672 non-null  float64\n",
      " 14  acousticness      586672 non-null  float64\n",
      " 15  instrumentalness  586672 non-null  float64\n",
      " 16  liveness          586672 non-null  float64\n",
      " 17  valence           586672 non-null  float64\n",
      " 18  tempo             586672 non-null  float64\n",
      " 19  time_signature    586672 non-null  int64  \n",
      "dtypes: float64(9), int64(6), object(5)\n",
      "memory usage: 89.5+ MB\n"
     ]
    },
    {
     "data": {
      "text/html": [
       "<div>\n",
       "<style scoped>\n",
       "    .dataframe tbody tr th:only-of-type {\n",
       "        vertical-align: middle;\n",
       "    }\n",
       "\n",
       "    .dataframe tbody tr th {\n",
       "        vertical-align: top;\n",
       "    }\n",
       "\n",
       "    .dataframe thead th {\n",
       "        text-align: right;\n",
       "    }\n",
       "</style>\n",
       "<table border=\"1\" class=\"dataframe\">\n",
       "  <thead>\n",
       "    <tr style=\"text-align: right;\">\n",
       "      <th></th>\n",
       "      <th>popularity</th>\n",
       "      <th>duration_ms</th>\n",
       "      <th>explicit</th>\n",
       "      <th>danceability</th>\n",
       "      <th>energy</th>\n",
       "      <th>key</th>\n",
       "      <th>loudness</th>\n",
       "      <th>mode</th>\n",
       "      <th>speechiness</th>\n",
       "      <th>acousticness</th>\n",
       "      <th>instrumentalness</th>\n",
       "      <th>liveness</th>\n",
       "      <th>valence</th>\n",
       "      <th>tempo</th>\n",
       "      <th>time_signature</th>\n",
       "    </tr>\n",
       "  </thead>\n",
       "  <tbody>\n",
       "    <tr>\n",
       "      <th>count</th>\n",
       "      <td>586672.000000</td>\n",
       "      <td>5.866720e+05</td>\n",
       "      <td>586672.000000</td>\n",
       "      <td>586672.000000</td>\n",
       "      <td>586672.000000</td>\n",
       "      <td>586672.000000</td>\n",
       "      <td>586672.000000</td>\n",
       "      <td>586672.000000</td>\n",
       "      <td>586672.000000</td>\n",
       "      <td>586672.000000</td>\n",
       "      <td>586672.000000</td>\n",
       "      <td>586672.000000</td>\n",
       "      <td>586672.000000</td>\n",
       "      <td>586672.000000</td>\n",
       "      <td>586672.000000</td>\n",
       "    </tr>\n",
       "    <tr>\n",
       "      <th>mean</th>\n",
       "      <td>27.570053</td>\n",
       "      <td>2.300512e+05</td>\n",
       "      <td>0.044086</td>\n",
       "      <td>0.563594</td>\n",
       "      <td>0.542036</td>\n",
       "      <td>5.221603</td>\n",
       "      <td>-10.206067</td>\n",
       "      <td>0.658797</td>\n",
       "      <td>0.104864</td>\n",
       "      <td>0.449863</td>\n",
       "      <td>0.113451</td>\n",
       "      <td>0.213935</td>\n",
       "      <td>0.552292</td>\n",
       "      <td>118.464857</td>\n",
       "      <td>3.873382</td>\n",
       "    </tr>\n",
       "    <tr>\n",
       "      <th>std</th>\n",
       "      <td>18.370642</td>\n",
       "      <td>1.265261e+05</td>\n",
       "      <td>0.205286</td>\n",
       "      <td>0.166103</td>\n",
       "      <td>0.251923</td>\n",
       "      <td>3.519423</td>\n",
       "      <td>5.089328</td>\n",
       "      <td>0.474114</td>\n",
       "      <td>0.179893</td>\n",
       "      <td>0.348837</td>\n",
       "      <td>0.266868</td>\n",
       "      <td>0.184326</td>\n",
       "      <td>0.257671</td>\n",
       "      <td>29.764108</td>\n",
       "      <td>0.473162</td>\n",
       "    </tr>\n",
       "    <tr>\n",
       "      <th>min</th>\n",
       "      <td>0.000000</td>\n",
       "      <td>3.344000e+03</td>\n",
       "      <td>0.000000</td>\n",
       "      <td>0.000000</td>\n",
       "      <td>0.000000</td>\n",
       "      <td>0.000000</td>\n",
       "      <td>-60.000000</td>\n",
       "      <td>0.000000</td>\n",
       "      <td>0.000000</td>\n",
       "      <td>0.000000</td>\n",
       "      <td>0.000000</td>\n",
       "      <td>0.000000</td>\n",
       "      <td>0.000000</td>\n",
       "      <td>0.000000</td>\n",
       "      <td>0.000000</td>\n",
       "    </tr>\n",
       "    <tr>\n",
       "      <th>25%</th>\n",
       "      <td>13.000000</td>\n",
       "      <td>1.750930e+05</td>\n",
       "      <td>0.000000</td>\n",
       "      <td>0.453000</td>\n",
       "      <td>0.343000</td>\n",
       "      <td>2.000000</td>\n",
       "      <td>-12.891000</td>\n",
       "      <td>0.000000</td>\n",
       "      <td>0.034000</td>\n",
       "      <td>0.096900</td>\n",
       "      <td>0.000000</td>\n",
       "      <td>0.098300</td>\n",
       "      <td>0.346000</td>\n",
       "      <td>95.600000</td>\n",
       "      <td>4.000000</td>\n",
       "    </tr>\n",
       "    <tr>\n",
       "      <th>50%</th>\n",
       "      <td>27.000000</td>\n",
       "      <td>2.148930e+05</td>\n",
       "      <td>0.000000</td>\n",
       "      <td>0.577000</td>\n",
       "      <td>0.549000</td>\n",
       "      <td>5.000000</td>\n",
       "      <td>-9.243000</td>\n",
       "      <td>1.000000</td>\n",
       "      <td>0.044300</td>\n",
       "      <td>0.422000</td>\n",
       "      <td>0.000024</td>\n",
       "      <td>0.139000</td>\n",
       "      <td>0.564000</td>\n",
       "      <td>117.384000</td>\n",
       "      <td>4.000000</td>\n",
       "    </tr>\n",
       "    <tr>\n",
       "      <th>75%</th>\n",
       "      <td>41.000000</td>\n",
       "      <td>2.638670e+05</td>\n",
       "      <td>0.000000</td>\n",
       "      <td>0.686000</td>\n",
       "      <td>0.748000</td>\n",
       "      <td>8.000000</td>\n",
       "      <td>-6.482000</td>\n",
       "      <td>1.000000</td>\n",
       "      <td>0.076300</td>\n",
       "      <td>0.785000</td>\n",
       "      <td>0.009550</td>\n",
       "      <td>0.278000</td>\n",
       "      <td>0.769000</td>\n",
       "      <td>136.321000</td>\n",
       "      <td>4.000000</td>\n",
       "    </tr>\n",
       "    <tr>\n",
       "      <th>max</th>\n",
       "      <td>100.000000</td>\n",
       "      <td>5.621218e+06</td>\n",
       "      <td>1.000000</td>\n",
       "      <td>0.991000</td>\n",
       "      <td>1.000000</td>\n",
       "      <td>11.000000</td>\n",
       "      <td>5.376000</td>\n",
       "      <td>1.000000</td>\n",
       "      <td>0.971000</td>\n",
       "      <td>0.996000</td>\n",
       "      <td>1.000000</td>\n",
       "      <td>1.000000</td>\n",
       "      <td>1.000000</td>\n",
       "      <td>246.381000</td>\n",
       "      <td>5.000000</td>\n",
       "    </tr>\n",
       "  </tbody>\n",
       "</table>\n",
       "</div>"
      ],
      "text/plain": [
       "          popularity   duration_ms       explicit   danceability  \\\n",
       "count  586672.000000  5.866720e+05  586672.000000  586672.000000   \n",
       "mean       27.570053  2.300512e+05       0.044086       0.563594   \n",
       "std        18.370642  1.265261e+05       0.205286       0.166103   \n",
       "min         0.000000  3.344000e+03       0.000000       0.000000   \n",
       "25%        13.000000  1.750930e+05       0.000000       0.453000   \n",
       "50%        27.000000  2.148930e+05       0.000000       0.577000   \n",
       "75%        41.000000  2.638670e+05       0.000000       0.686000   \n",
       "max       100.000000  5.621218e+06       1.000000       0.991000   \n",
       "\n",
       "              energy            key       loudness           mode  \\\n",
       "count  586672.000000  586672.000000  586672.000000  586672.000000   \n",
       "mean        0.542036       5.221603     -10.206067       0.658797   \n",
       "std         0.251923       3.519423       5.089328       0.474114   \n",
       "min         0.000000       0.000000     -60.000000       0.000000   \n",
       "25%         0.343000       2.000000     -12.891000       0.000000   \n",
       "50%         0.549000       5.000000      -9.243000       1.000000   \n",
       "75%         0.748000       8.000000      -6.482000       1.000000   \n",
       "max         1.000000      11.000000       5.376000       1.000000   \n",
       "\n",
       "         speechiness   acousticness  instrumentalness       liveness  \\\n",
       "count  586672.000000  586672.000000     586672.000000  586672.000000   \n",
       "mean        0.104864       0.449863          0.113451       0.213935   \n",
       "std         0.179893       0.348837          0.266868       0.184326   \n",
       "min         0.000000       0.000000          0.000000       0.000000   \n",
       "25%         0.034000       0.096900          0.000000       0.098300   \n",
       "50%         0.044300       0.422000          0.000024       0.139000   \n",
       "75%         0.076300       0.785000          0.009550       0.278000   \n",
       "max         0.971000       0.996000          1.000000       1.000000   \n",
       "\n",
       "             valence          tempo  time_signature  \n",
       "count  586672.000000  586672.000000   586672.000000  \n",
       "mean        0.552292     118.464857        3.873382  \n",
       "std         0.257671      29.764108        0.473162  \n",
       "min         0.000000       0.000000        0.000000  \n",
       "25%         0.346000      95.600000        4.000000  \n",
       "50%         0.564000     117.384000        4.000000  \n",
       "75%         0.769000     136.321000        4.000000  \n",
       "max         1.000000     246.381000        5.000000  "
      ]
     },
     "execution_count": 6,
     "metadata": {},
     "output_type": "execute_result"
    }
   ],
   "source": [
    "df_artistes.info()\n",
    "df_chansons.info()\n",
    "df_chansons.describe()"
   ]
  },
  {
   "cell_type": "code",
   "execution_count": 7,
   "id": "7d2fde43",
   "metadata": {},
   "outputs": [
    {
     "data": {
      "text/html": [
       "<div>\n",
       "<style scoped>\n",
       "    .dataframe tbody tr th:only-of-type {\n",
       "        vertical-align: middle;\n",
       "    }\n",
       "\n",
       "    .dataframe tbody tr th {\n",
       "        vertical-align: top;\n",
       "    }\n",
       "\n",
       "    .dataframe thead th {\n",
       "        text-align: right;\n",
       "    }\n",
       "</style>\n",
       "<table border=\"1\" class=\"dataframe\">\n",
       "  <thead>\n",
       "    <tr style=\"text-align: right;\">\n",
       "      <th></th>\n",
       "      <th>followers</th>\n",
       "      <th>popularity</th>\n",
       "    </tr>\n",
       "  </thead>\n",
       "  <tbody>\n",
       "    <tr>\n",
       "      <th>count</th>\n",
       "      <td>1.104336e+06</td>\n",
       "      <td>1.104349e+06</td>\n",
       "    </tr>\n",
       "    <tr>\n",
       "      <th>mean</th>\n",
       "      <td>1.074304e+04</td>\n",
       "      <td>9.083884e+00</td>\n",
       "    </tr>\n",
       "    <tr>\n",
       "      <th>std</th>\n",
       "      <td>2.609554e+05</td>\n",
       "      <td>1.376310e+01</td>\n",
       "    </tr>\n",
       "    <tr>\n",
       "      <th>min</th>\n",
       "      <td>0.000000e+00</td>\n",
       "      <td>0.000000e+00</td>\n",
       "    </tr>\n",
       "    <tr>\n",
       "      <th>25%</th>\n",
       "      <td>1.000000e+01</td>\n",
       "      <td>0.000000e+00</td>\n",
       "    </tr>\n",
       "    <tr>\n",
       "      <th>50%</th>\n",
       "      <td>5.900000e+01</td>\n",
       "      <td>2.000000e+00</td>\n",
       "    </tr>\n",
       "    <tr>\n",
       "      <th>75%</th>\n",
       "      <td>4.510000e+02</td>\n",
       "      <td>1.400000e+01</td>\n",
       "    </tr>\n",
       "    <tr>\n",
       "      <th>max</th>\n",
       "      <td>7.890023e+07</td>\n",
       "      <td>1.000000e+02</td>\n",
       "    </tr>\n",
       "  </tbody>\n",
       "</table>\n",
       "</div>"
      ],
      "text/plain": [
       "          followers    popularity\n",
       "count  1.104336e+06  1.104349e+06\n",
       "mean   1.074304e+04  9.083884e+00\n",
       "std    2.609554e+05  1.376310e+01\n",
       "min    0.000000e+00  0.000000e+00\n",
       "25%    1.000000e+01  0.000000e+00\n",
       "50%    5.900000e+01  2.000000e+00\n",
       "75%    4.510000e+02  1.400000e+01\n",
       "max    7.890023e+07  1.000000e+02"
      ]
     },
     "execution_count": 7,
     "metadata": {},
     "output_type": "execute_result"
    }
   ],
   "source": [
    "df_artistes.describe()"
   ]
  },
  {
   "cell_type": "markdown",
   "id": "d8198e74",
   "metadata": {},
   "source": [
    "# Exploration"
   ]
  },
  {
   "cell_type": "code",
   "execution_count": 8,
   "id": "cc8cd831",
   "metadata": {},
   "outputs": [
    {
     "data": {
      "text/plain": [
       "['Die drei ???']                                               3856\n",
       "['TKKG Retro-Archiv']                                          2006\n",
       "['Benjamin Blümchen']                                          1503\n",
       "['Bibi Blocksberg']                                            1472\n",
       "['Lata Mangeshkar']                                            1373\n",
       "                                                               ... \n",
       "['Snoop Dogg', 'Warren G', 'Nate Dogg', 'Mauseburg']              1\n",
       "['Velet', 'Dilan']                                                1\n",
       "['Omar Pene', 'Super Diamono']                                    1\n",
       "['Svika Pick', 'Margalit Ankori', \"Participants of 'Hair'\"]       1\n",
       "['B.G.K.']                                                        1\n",
       "Name: artists, Length: 114030, dtype: int64"
      ]
     },
     "execution_count": 8,
     "metadata": {},
     "output_type": "execute_result"
    }
   ],
   "source": [
    "df_chansons[\"artists\"].value_counts()"
   ]
  },
  {
   "cell_type": "code",
   "execution_count": 9,
   "id": "e0d7edad",
   "metadata": {},
   "outputs": [
    {
     "data": {
      "text/plain": [
       "446474"
      ]
     },
     "execution_count": 9,
     "metadata": {},
     "output_type": "execute_result"
    }
   ],
   "source": [
    "df_chansons.name.nunique()"
   ]
  },
  {
   "cell_type": "code",
   "execution_count": 10,
   "id": "8402aa07",
   "metadata": {},
   "outputs": [
    {
     "data": {
      "text/plain": [
       "115062"
      ]
     },
     "execution_count": 10,
     "metadata": {},
     "output_type": "execute_result"
    }
   ],
   "source": [
    "df_chansons.id_artists.nunique()"
   ]
  },
  {
   "cell_type": "code",
   "execution_count": 11,
   "id": "35aeb390",
   "metadata": {},
   "outputs": [
    {
     "data": {
      "text/plain": [
       "1078660"
      ]
     },
     "execution_count": 11,
     "metadata": {},
     "output_type": "execute_result"
    }
   ],
   "source": [
    "df_artistes.name.nunique()"
   ]
  },
  {
   "cell_type": "code",
   "execution_count": 13,
   "id": "db82fa89",
   "metadata": {},
   "outputs": [
    {
     "name": "stdout",
     "output_type": "stream",
     "text": [
      "3344\n",
      "5621218\n"
     ]
    }
   ],
   "source": [
    "print(df_chansons['duration_ms'].min())\n",
    "print(df_chansons['duration_ms'].max())"
   ]
  },
  {
   "cell_type": "markdown",
   "id": "816b2133",
   "metadata": {},
   "source": [
    "# Check missing data"
   ]
  },
  {
   "cell_type": "code",
   "execution_count": 14,
   "id": "c02c6135",
   "metadata": {},
   "outputs": [],
   "source": [
    "list1_null = df_artistes[df_artistes.isnull().values.any(axis=1)]"
   ]
  },
  {
   "cell_type": "code",
   "execution_count": 15,
   "id": "40130aae",
   "metadata": {},
   "outputs": [],
   "source": [
    "list2_null = df_chansons[df_chansons.isnull().values.any(axis=1)]"
   ]
  },
  {
   "cell_type": "code",
   "execution_count": 16,
   "id": "90048b4a",
   "metadata": {},
   "outputs": [],
   "source": [
    "index1_null = df_artistes.index[df_artistes.isnull().any(axis=1)]\n",
    "index2_null = df_chansons.index[df_chansons.isnull().any(axis=1)]\n",
    "df_artistes.drop(labels=index1_null, inplace=True)\n",
    "df_chansons.drop(labels=index2_null, inplace=True)"
   ]
  },
  {
   "cell_type": "markdown",
   "id": "ca747109",
   "metadata": {},
   "source": [
    "# Cleansing"
   ]
  },
  {
   "cell_type": "code",
   "execution_count": 17,
   "id": "abfd94e1",
   "metadata": {},
   "outputs": [],
   "source": [
    "#df_chansons[\"id_artists\"] = df_chansons[\"id_artists\"].str.replace(\"['\", \"\")\n",
    "df_chansons[\"id_artists\"] = df_chansons[\"id_artists\"].str.replace(\"['\", ''))\n",
    "df_chansons[\"id_artists\"] = df_chansons[\"id_artists\"].str.replace('[\"', ''))\n",
    "df_chansons[\"id_artists\"] = df_chansons[\"id_artists\"].str.replace(\"']\", ''))\n",
    "df_chansons[\"id_artists\"] = df_chansons[\"id_artists\"].str.replace('\"]', ''))\n",
    "df_chansons[\"id_artists\"] = df_chansons[\"id_artists\"].str.replace(\"'\", ''))\n",
    "df_chansons[\"id_artists\"] = df_chansons[\"id_artists\"].str.replace('\"', ''))"
   ]
  },
  {
   "cell_type": "code",
   "execution_count": 18,
   "id": "381508ef",
   "metadata": {},
   "outputs": [],
   "source": [
    "df_chansons[\"artists\"] = df_chansons[\"artists\"].str.replace(\"['\", ''))\n",
    "df_chansons[\"artists\"] = df_chansons[\"artists\"].str.replace('[\"', ''))\n",
    "df_chansons[\"artists\"] = df_chansons[\"artists\"].str.replace(\"']\", ''))\n",
    "df_chansons[\"artists\"] = df_chansons[\"artists\"].str.replace('\"]', ''))\n",
    "df_chansons[\"artists\"] = df_chansons[\"artists\"].str.replace(\"'\", ''))\n",
    "df_chansons[\"artists\"] = df_chansons[\"artists\"].str.replace('\"', ''))"
   ]
  },
  {
   "cell_type": "raw",
   "id": "0f86d3ca",
   "metadata": {},
   "source": [
    "double = df_chansons.groupby(['name', 'duration_ms', 'id_artists']).agg({'artists': \"count\"})\n",
    "double.sort_values('artists', ascending = False, inplace = True)"
   ]
  },
  {
   "cell_type": "raw",
   "id": "e0b45469",
   "metadata": {},
   "source": [
    "oui = double[double['artists'] > 1]\n",
    "oui['artists'].sum()"
   ]
  },
  {
   "cell_type": "markdown",
   "id": "9cfbb6b7",
   "metadata": {},
   "source": [
    "###### Drop duplicated songs with similar attributes"
   ]
  },
  {
   "cell_type": "code",
   "execution_count": 19,
   "id": "73320c5b",
   "metadata": {},
   "outputs": [],
   "source": [
    "store = df_chansons.drop_duplicates(subset=['name', 'duration_ms','id_artists'])"
   ]
  },
  {
   "cell_type": "markdown",
   "id": "26b0ecd2",
   "metadata": {},
   "source": [
    "###### First selection of \"real\" songs after first \"offline\" data exploration"
   ]
  },
  {
   "cell_type": "code",
   "execution_count": 20,
   "id": "1e63eeed",
   "metadata": {},
   "outputs": [],
   "source": [
    "long_song = 400000\n",
    "short_song = 150000\n",
    "\n",
    "real_subset=store[(store['duration_ms'] <= long_song) & (store['duration_ms'] >= short_song)]"
   ]
  },
  {
   "cell_type": "markdown",
   "id": "e1eb1c93",
   "metadata": {},
   "source": [
    "# Plotting"
   ]
  },
  {
   "cell_type": "code",
   "execution_count": 21,
   "id": "299085a5",
   "metadata": {},
   "outputs": [],
   "source": [
    "import numpy as np\n",
    "import matplotlib\n",
    "import matplotlib.pyplot as plt\n",
    "import seaborn as sns\n",
    "from sklearn.preprocessing import StandardScaler\n",
    "%matplotlib inline"
   ]
  },
  {
   "cell_type": "code",
   "execution_count": 22,
   "id": "b9c5eb12",
   "metadata": {},
   "outputs": [],
   "source": [
    "songs = real_subset.drop(columns=['id', 'name', 'artists', 'id_artists', 'release_date'], axis=1)\n",
    "singers = df_artistes.drop(columns=['id', 'name','genres'], axis=1)"
   ]
  },
  {
   "cell_type": "code",
   "execution_count": 23,
   "id": "69d9cf60",
   "metadata": {},
   "outputs": [],
   "source": [
    "scaler = StandardScaler()\n",
    "scaled_songs = pd.DataFrame(scaler.fit_transform(songs), columns=songs.columns)\n",
    "scaled_singers = pd.DataFrame(scaler.fit_transform(singers), columns=singers.columns)"
   ]
  },
  {
   "cell_type": "code",
   "execution_count": 24,
   "id": "f77ae01a",
   "metadata": {},
   "outputs": [
    {
     "data": {
      "text/html": [
       "<div>\n",
       "<style scoped>\n",
       "    .dataframe tbody tr th:only-of-type {\n",
       "        vertical-align: middle;\n",
       "    }\n",
       "\n",
       "    .dataframe tbody tr th {\n",
       "        vertical-align: top;\n",
       "    }\n",
       "\n",
       "    .dataframe thead th {\n",
       "        text-align: right;\n",
       "    }\n",
       "</style>\n",
       "<table border=\"1\" class=\"dataframe\">\n",
       "  <thead>\n",
       "    <tr style=\"text-align: right;\">\n",
       "      <th></th>\n",
       "      <th>popularity</th>\n",
       "      <th>duration_ms</th>\n",
       "      <th>explicit</th>\n",
       "      <th>danceability</th>\n",
       "      <th>energy</th>\n",
       "      <th>key</th>\n",
       "      <th>loudness</th>\n",
       "      <th>mode</th>\n",
       "      <th>speechiness</th>\n",
       "      <th>acousticness</th>\n",
       "      <th>instrumentalness</th>\n",
       "      <th>liveness</th>\n",
       "      <th>valence</th>\n",
       "      <th>tempo</th>\n",
       "      <th>time_signature</th>\n",
       "    </tr>\n",
       "  </thead>\n",
       "  <tbody>\n",
       "    <tr>\n",
       "      <th>popularity</th>\n",
       "      <td>1.00e+00</td>\n",
       "      <td>9.02e-02</td>\n",
       "      <td>2.09e-01</td>\n",
       "      <td>0.20</td>\n",
       "      <td>0.30</td>\n",
       "      <td>1.70e-02</td>\n",
       "      <td>3.29e-01</td>\n",
       "      <td>-3.00e-02</td>\n",
       "      <td>-1.16e-02</td>\n",
       "      <td>-3.72e-01</td>\n",
       "      <td>-2.28e-01</td>\n",
       "      <td>-4.37e-02</td>\n",
       "      <td>-2.07e-03</td>\n",
       "      <td>6.53e-02</td>\n",
       "      <td>9.26e-02</td>\n",
       "    </tr>\n",
       "    <tr>\n",
       "      <th>duration_ms</th>\n",
       "      <td>9.02e-02</td>\n",
       "      <td>1.00e+00</td>\n",
       "      <td>-3.07e-02</td>\n",
       "      <td>-0.07</td>\n",
       "      <td>0.08</td>\n",
       "      <td>5.31e-03</td>\n",
       "      <td>5.08e-03</td>\n",
       "      <td>-4.39e-02</td>\n",
       "      <td>-2.57e-02</td>\n",
       "      <td>-1.48e-01</td>\n",
       "      <td>1.21e-02</td>\n",
       "      <td>2.38e-02</td>\n",
       "      <td>-1.71e-01</td>\n",
       "      <td>-3.33e-03</td>\n",
       "      <td>3.37e-02</td>\n",
       "    </tr>\n",
       "    <tr>\n",
       "      <th>explicit</th>\n",
       "      <td>2.09e-01</td>\n",
       "      <td>-3.07e-02</td>\n",
       "      <td>1.00e+00</td>\n",
       "      <td>0.16</td>\n",
       "      <td>0.12</td>\n",
       "      <td>1.16e-02</td>\n",
       "      <td>1.30e-01</td>\n",
       "      <td>-5.33e-02</td>\n",
       "      <td>2.35e-01</td>\n",
       "      <td>-1.41e-01</td>\n",
       "      <td>-6.33e-02</td>\n",
       "      <td>-5.80e-03</td>\n",
       "      <td>-1.76e-02</td>\n",
       "      <td>-3.41e-03</td>\n",
       "      <td>4.37e-02</td>\n",
       "    </tr>\n",
       "    <tr>\n",
       "      <th>danceability</th>\n",
       "      <td>1.96e-01</td>\n",
       "      <td>-7.45e-02</td>\n",
       "      <td>1.59e-01</td>\n",
       "      <td>1.00</td>\n",
       "      <td>0.26</td>\n",
       "      <td>2.22e-02</td>\n",
       "      <td>2.57e-01</td>\n",
       "      <td>-5.34e-02</td>\n",
       "      <td>1.74e-01</td>\n",
       "      <td>-2.58e-01</td>\n",
       "      <td>-1.82e-01</td>\n",
       "      <td>-1.27e-01</td>\n",
       "      <td>5.29e-01</td>\n",
       "      <td>-5.19e-02</td>\n",
       "      <td>1.75e-01</td>\n",
       "    </tr>\n",
       "    <tr>\n",
       "      <th>energy</th>\n",
       "      <td>3.04e-01</td>\n",
       "      <td>7.95e-02</td>\n",
       "      <td>1.17e-01</td>\n",
       "      <td>0.26</td>\n",
       "      <td>1.00</td>\n",
       "      <td>3.44e-02</td>\n",
       "      <td>7.64e-01</td>\n",
       "      <td>-6.45e-02</td>\n",
       "      <td>3.53e-02</td>\n",
       "      <td>-7.17e-01</td>\n",
       "      <td>-2.01e-01</td>\n",
       "      <td>1.31e-01</td>\n",
       "      <td>3.95e-01</td>\n",
       "      <td>2.16e-01</td>\n",
       "      <td>1.96e-01</td>\n",
       "    </tr>\n",
       "    <tr>\n",
       "      <th>key</th>\n",
       "      <td>1.70e-02</td>\n",
       "      <td>5.31e-03</td>\n",
       "      <td>1.16e-02</td>\n",
       "      <td>0.02</td>\n",
       "      <td>0.03</td>\n",
       "      <td>1.00e+00</td>\n",
       "      <td>2.64e-02</td>\n",
       "      <td>-1.24e-01</td>\n",
       "      <td>1.06e-02</td>\n",
       "      <td>-2.53e-02</td>\n",
       "      <td>-7.57e-03</td>\n",
       "      <td>-5.60e-03</td>\n",
       "      <td>2.32e-02</td>\n",
       "      <td>4.17e-03</td>\n",
       "      <td>8.64e-03</td>\n",
       "    </tr>\n",
       "    <tr>\n",
       "      <th>loudness</th>\n",
       "      <td>3.29e-01</td>\n",
       "      <td>5.08e-03</td>\n",
       "      <td>1.30e-01</td>\n",
       "      <td>0.26</td>\n",
       "      <td>0.76</td>\n",
       "      <td>2.64e-02</td>\n",
       "      <td>1.00e+00</td>\n",
       "      <td>-4.20e-02</td>\n",
       "      <td>-3.27e-02</td>\n",
       "      <td>-5.11e-01</td>\n",
       "      <td>-3.27e-01</td>\n",
       "      <td>5.68e-02</td>\n",
       "      <td>2.64e-01</td>\n",
       "      <td>1.63e-01</td>\n",
       "      <td>1.47e-01</td>\n",
       "    </tr>\n",
       "    <tr>\n",
       "      <th>mode</th>\n",
       "      <td>-3.00e-02</td>\n",
       "      <td>-4.39e-02</td>\n",
       "      <td>-5.33e-02</td>\n",
       "      <td>-0.05</td>\n",
       "      <td>-0.06</td>\n",
       "      <td>-1.24e-01</td>\n",
       "      <td>-4.20e-02</td>\n",
       "      <td>1.00e+00</td>\n",
       "      <td>-3.63e-02</td>\n",
       "      <td>5.33e-02</td>\n",
       "      <td>-7.69e-03</td>\n",
       "      <td>1.07e-02</td>\n",
       "      <td>1.30e-03</td>\n",
       "      <td>8.95e-03</td>\n",
       "      <td>-1.66e-02</td>\n",
       "    </tr>\n",
       "    <tr>\n",
       "      <th>speechiness</th>\n",
       "      <td>-1.16e-02</td>\n",
       "      <td>-2.57e-02</td>\n",
       "      <td>2.35e-01</td>\n",
       "      <td>0.17</td>\n",
       "      <td>0.04</td>\n",
       "      <td>1.06e-02</td>\n",
       "      <td>-3.27e-02</td>\n",
       "      <td>-3.63e-02</td>\n",
       "      <td>1.00e+00</td>\n",
       "      <td>-2.46e-03</td>\n",
       "      <td>-5.83e-02</td>\n",
       "      <td>1.04e-01</td>\n",
       "      <td>6.18e-02</td>\n",
       "      <td>1.64e-03</td>\n",
       "      <td>-2.75e-02</td>\n",
       "    </tr>\n",
       "    <tr>\n",
       "      <th>acousticness</th>\n",
       "      <td>-3.72e-01</td>\n",
       "      <td>-1.48e-01</td>\n",
       "      <td>-1.41e-01</td>\n",
       "      <td>-0.26</td>\n",
       "      <td>-0.72</td>\n",
       "      <td>-2.53e-02</td>\n",
       "      <td>-5.11e-01</td>\n",
       "      <td>5.33e-02</td>\n",
       "      <td>-2.46e-03</td>\n",
       "      <td>1.00e+00</td>\n",
       "      <td>2.17e-01</td>\n",
       "      <td>-1.75e-02</td>\n",
       "      <td>-2.01e-01</td>\n",
       "      <td>-1.78e-01</td>\n",
       "      <td>-1.83e-01</td>\n",
       "    </tr>\n",
       "    <tr>\n",
       "      <th>instrumentalness</th>\n",
       "      <td>-2.28e-01</td>\n",
       "      <td>1.21e-02</td>\n",
       "      <td>-6.33e-02</td>\n",
       "      <td>-0.18</td>\n",
       "      <td>-0.20</td>\n",
       "      <td>-7.57e-03</td>\n",
       "      <td>-3.27e-01</td>\n",
       "      <td>-7.69e-03</td>\n",
       "      <td>-5.83e-02</td>\n",
       "      <td>2.17e-01</td>\n",
       "      <td>1.00e+00</td>\n",
       "      <td>-2.79e-02</td>\n",
       "      <td>-1.34e-01</td>\n",
       "      <td>-5.77e-02</td>\n",
       "      <td>-5.09e-02</td>\n",
       "    </tr>\n",
       "    <tr>\n",
       "      <th>liveness</th>\n",
       "      <td>-4.37e-02</td>\n",
       "      <td>2.38e-02</td>\n",
       "      <td>-5.80e-03</td>\n",
       "      <td>-0.13</td>\n",
       "      <td>0.13</td>\n",
       "      <td>-5.60e-03</td>\n",
       "      <td>5.68e-02</td>\n",
       "      <td>1.07e-02</td>\n",
       "      <td>1.04e-01</td>\n",
       "      <td>-1.75e-02</td>\n",
       "      <td>-2.79e-02</td>\n",
       "      <td>1.00e+00</td>\n",
       "      <td>-1.16e-04</td>\n",
       "      <td>7.37e-03</td>\n",
       "      <td>-1.34e-03</td>\n",
       "    </tr>\n",
       "    <tr>\n",
       "      <th>valence</th>\n",
       "      <td>-2.07e-03</td>\n",
       "      <td>-1.71e-01</td>\n",
       "      <td>-1.76e-02</td>\n",
       "      <td>0.53</td>\n",
       "      <td>0.40</td>\n",
       "      <td>2.32e-02</td>\n",
       "      <td>2.64e-01</td>\n",
       "      <td>1.30e-03</td>\n",
       "      <td>6.18e-02</td>\n",
       "      <td>-2.01e-01</td>\n",
       "      <td>-1.34e-01</td>\n",
       "      <td>-1.16e-04</td>\n",
       "      <td>1.00e+00</td>\n",
       "      <td>1.28e-01</td>\n",
       "      <td>1.15e-01</td>\n",
       "    </tr>\n",
       "    <tr>\n",
       "      <th>tempo</th>\n",
       "      <td>6.53e-02</td>\n",
       "      <td>-3.33e-03</td>\n",
       "      <td>-3.41e-03</td>\n",
       "      <td>-0.05</td>\n",
       "      <td>0.22</td>\n",
       "      <td>4.17e-03</td>\n",
       "      <td>1.63e-01</td>\n",
       "      <td>8.95e-03</td>\n",
       "      <td>1.64e-03</td>\n",
       "      <td>-1.78e-01</td>\n",
       "      <td>-5.77e-02</td>\n",
       "      <td>7.37e-03</td>\n",
       "      <td>1.28e-01</td>\n",
       "      <td>1.00e+00</td>\n",
       "      <td>-1.70e-03</td>\n",
       "    </tr>\n",
       "    <tr>\n",
       "      <th>time_signature</th>\n",
       "      <td>9.26e-02</td>\n",
       "      <td>3.37e-02</td>\n",
       "      <td>4.37e-02</td>\n",
       "      <td>0.17</td>\n",
       "      <td>0.20</td>\n",
       "      <td>8.64e-03</td>\n",
       "      <td>1.47e-01</td>\n",
       "      <td>-1.66e-02</td>\n",
       "      <td>-2.75e-02</td>\n",
       "      <td>-1.83e-01</td>\n",
       "      <td>-5.09e-02</td>\n",
       "      <td>-1.34e-03</td>\n",
       "      <td>1.15e-01</td>\n",
       "      <td>-1.70e-03</td>\n",
       "      <td>1.00e+00</td>\n",
       "    </tr>\n",
       "  </tbody>\n",
       "</table>\n",
       "</div>"
      ],
      "text/plain": [
       "                  popularity  duration_ms  explicit  danceability  energy  \\\n",
       "popularity          1.00e+00     9.02e-02  2.09e-01          0.20    0.30   \n",
       "duration_ms         9.02e-02     1.00e+00 -3.07e-02         -0.07    0.08   \n",
       "explicit            2.09e-01    -3.07e-02  1.00e+00          0.16    0.12   \n",
       "danceability        1.96e-01    -7.45e-02  1.59e-01          1.00    0.26   \n",
       "energy              3.04e-01     7.95e-02  1.17e-01          0.26    1.00   \n",
       "key                 1.70e-02     5.31e-03  1.16e-02          0.02    0.03   \n",
       "loudness            3.29e-01     5.08e-03  1.30e-01          0.26    0.76   \n",
       "mode               -3.00e-02    -4.39e-02 -5.33e-02         -0.05   -0.06   \n",
       "speechiness        -1.16e-02    -2.57e-02  2.35e-01          0.17    0.04   \n",
       "acousticness       -3.72e-01    -1.48e-01 -1.41e-01         -0.26   -0.72   \n",
       "instrumentalness   -2.28e-01     1.21e-02 -6.33e-02         -0.18   -0.20   \n",
       "liveness           -4.37e-02     2.38e-02 -5.80e-03         -0.13    0.13   \n",
       "valence            -2.07e-03    -1.71e-01 -1.76e-02          0.53    0.40   \n",
       "tempo               6.53e-02    -3.33e-03 -3.41e-03         -0.05    0.22   \n",
       "time_signature      9.26e-02     3.37e-02  4.37e-02          0.17    0.20   \n",
       "\n",
       "                       key  loudness      mode  speechiness  acousticness  \\\n",
       "popularity        1.70e-02  3.29e-01 -3.00e-02    -1.16e-02     -3.72e-01   \n",
       "duration_ms       5.31e-03  5.08e-03 -4.39e-02    -2.57e-02     -1.48e-01   \n",
       "explicit          1.16e-02  1.30e-01 -5.33e-02     2.35e-01     -1.41e-01   \n",
       "danceability      2.22e-02  2.57e-01 -5.34e-02     1.74e-01     -2.58e-01   \n",
       "energy            3.44e-02  7.64e-01 -6.45e-02     3.53e-02     -7.17e-01   \n",
       "key               1.00e+00  2.64e-02 -1.24e-01     1.06e-02     -2.53e-02   \n",
       "loudness          2.64e-02  1.00e+00 -4.20e-02    -3.27e-02     -5.11e-01   \n",
       "mode             -1.24e-01 -4.20e-02  1.00e+00    -3.63e-02      5.33e-02   \n",
       "speechiness       1.06e-02 -3.27e-02 -3.63e-02     1.00e+00     -2.46e-03   \n",
       "acousticness     -2.53e-02 -5.11e-01  5.33e-02    -2.46e-03      1.00e+00   \n",
       "instrumentalness -7.57e-03 -3.27e-01 -7.69e-03    -5.83e-02      2.17e-01   \n",
       "liveness         -5.60e-03  5.68e-02  1.07e-02     1.04e-01     -1.75e-02   \n",
       "valence           2.32e-02  2.64e-01  1.30e-03     6.18e-02     -2.01e-01   \n",
       "tempo             4.17e-03  1.63e-01  8.95e-03     1.64e-03     -1.78e-01   \n",
       "time_signature    8.64e-03  1.47e-01 -1.66e-02    -2.75e-02     -1.83e-01   \n",
       "\n",
       "                  instrumentalness  liveness   valence     tempo  \\\n",
       "popularity               -2.28e-01 -4.37e-02 -2.07e-03  6.53e-02   \n",
       "duration_ms               1.21e-02  2.38e-02 -1.71e-01 -3.33e-03   \n",
       "explicit                 -6.33e-02 -5.80e-03 -1.76e-02 -3.41e-03   \n",
       "danceability             -1.82e-01 -1.27e-01  5.29e-01 -5.19e-02   \n",
       "energy                   -2.01e-01  1.31e-01  3.95e-01  2.16e-01   \n",
       "key                      -7.57e-03 -5.60e-03  2.32e-02  4.17e-03   \n",
       "loudness                 -3.27e-01  5.68e-02  2.64e-01  1.63e-01   \n",
       "mode                     -7.69e-03  1.07e-02  1.30e-03  8.95e-03   \n",
       "speechiness              -5.83e-02  1.04e-01  6.18e-02  1.64e-03   \n",
       "acousticness              2.17e-01 -1.75e-02 -2.01e-01 -1.78e-01   \n",
       "instrumentalness          1.00e+00 -2.79e-02 -1.34e-01 -5.77e-02   \n",
       "liveness                 -2.79e-02  1.00e+00 -1.16e-04  7.37e-03   \n",
       "valence                  -1.34e-01 -1.16e-04  1.00e+00  1.28e-01   \n",
       "tempo                    -5.77e-02  7.37e-03  1.28e-01  1.00e+00   \n",
       "time_signature           -5.09e-02 -1.34e-03  1.15e-01 -1.70e-03   \n",
       "\n",
       "                  time_signature  \n",
       "popularity              9.26e-02  \n",
       "duration_ms             3.37e-02  \n",
       "explicit                4.37e-02  \n",
       "danceability            1.75e-01  \n",
       "energy                  1.96e-01  \n",
       "key                     8.64e-03  \n",
       "loudness                1.47e-01  \n",
       "mode                   -1.66e-02  \n",
       "speechiness            -2.75e-02  \n",
       "acousticness           -1.83e-01  \n",
       "instrumentalness       -5.09e-02  \n",
       "liveness               -1.34e-03  \n",
       "valence                 1.15e-01  \n",
       "tempo                  -1.70e-03  \n",
       "time_signature          1.00e+00  "
      ]
     },
     "execution_count": 24,
     "metadata": {},
     "output_type": "execute_result"
    }
   ],
   "source": [
    "pd.set_option('precision', 2)\n",
    "scaled_songs.corr()"
   ]
  },
  {
   "cell_type": "code",
   "execution_count": 25,
   "id": "46c9a893",
   "metadata": {},
   "outputs": [
    {
     "data": {
      "text/plain": [
       "<AxesSubplot:>"
      ]
     },
     "execution_count": 25,
     "metadata": {},
     "output_type": "execute_result"
    },
    {
     "data": {
      "image/png": "[encoded data removed]",
      "text/plain": [
       "<Figure size 2160x720 with 2 Axes>"
      ]
     },
     "metadata": {
      "needs_background": "light"
     },
     "output_type": "display_data"
    }
   ],
   "source": [
    "plt.subplots(figsize=(30,10))\n",
    "sns.heatmap(scaled_songs.corr(), annot = True, cbar = True, cmap = 'BrBG_r', square=True, linewidth=1)"
   ]
  },
  {
   "cell_type": "code",
   "execution_count": 26,
   "id": "bdf7097c",
   "metadata": {},
   "outputs": [
    {
     "data": {
      "text/plain": [
       "<AxesSubplot:xlabel='energy', ylabel='loudness'>"
      ]
     },
     "execution_count": 26,
     "metadata": {},
     "output_type": "execute_result"
    },
    {
     "data": {
      "image/png": "[encoded data removed]",
      "text/plain": [
       "<Figure size 432x288 with 1 Axes>"
      ]
     },
     "metadata": {
      "needs_background": "light"
     },
     "output_type": "display_data"
    }
   ],
   "source": [
    "scaled_songs.plot(kind = 'scatter', x = 'energy', y = 'loudness')"
   ]
  },
  {
   "cell_type": "code",
   "execution_count": 27,
   "id": "5fef232a",
   "metadata": {},
   "outputs": [
    {
     "data": {
      "image/png": "[encoded data removed]",
      "text/plain": [
       "<Figure size 432x432 with 3 Axes>"
      ]
     },
     "metadata": {
      "needs_background": "light"
     },
     "output_type": "display_data"
    }
   ],
   "source": [
    "sns.jointplot(x='energy', y='loudness', data = scaled_songs)\n",
    "plt.show()"
   ]
  },
  {
   "cell_type": "raw",
   "id": "8c5a3128",
   "metadata": {},
   "source": [
    "fig = plt.subplots(4,4,figsize=(20,20))\n",
    "\n",
    "sns.distplot(scaled_songs['popularity'])\n",
    "sns.distplot(scaled_songs['duration_ms'])\n",
    "sns.distplot(scaled_songs['explicit'])\n",
    "sns.distplot(scaled_songs['danceability'])\n",
    "sns.distplot(scaled_songs['energy'])\n",
    "sns.distplot(scaled_songs['key'])\n",
    "sns.distplot(scaled_songs['loudness'])\n",
    "sns.distplot(scaled_songs['mode'])\n",
    "sns.distplot(scaled_songs['speechiness'])\n",
    "sns.distplot(scaled_songs['acousticness'])\n",
    "sns.distplot(scaled_songs['instrumentalness'])\n",
    "sns.distplot(scaled_songs['liveness'])\n",
    "sns.distplot(scaled_songs['valence'])\n",
    "sns.distplot(scaled_songs['tempo'])\n",
    "sns.distplot(scaled_songs['time_signature'])"
   ]
  },
  {
   "cell_type": "raw",
   "id": "27583ffc",
   "metadata": {
    "scrolled": true
   },
   "source": [
    "sns.pairplot(scaled_songs)"
   ]
  },
  {
   "cell_type": "code",
   "execution_count": 60,
   "id": "fb9eee95",
   "metadata": {},
   "outputs": [
    {
     "data": {
      "image/png": "[encoded data removed]",
      "text/plain": [
       "<Figure size 1296x432 with 1 Axes>"
      ]
     },
     "metadata": {
      "needs_background": "light"
     },
     "output_type": "display_data"
    }
   ],
   "source": [
    "fig = plt.figure(figsize=(18,6))\n",
    "echelle = fig.add_subplot(1,2,1)\n",
    "#plt.hist(scaled_songs['duration_ms'], bins=4050)\n",
    "scaled_songs[\"duration_ms\"].plot(kind = 'hist',bins=5000)\n",
    "echelle.set_xlim([-2,4])\n",
    "echelle.set_ylim([0,350])\n",
    "plt.show()"
   ]
  },
  {
   "cell_type": "code",
   "execution_count": 58,
   "id": "23be31c1",
   "metadata": {},
   "outputs": [
    {
     "data": {
      "image/png": "[encoded data removed]",
      "text/plain": [
       "<Figure size 1296x432 with 1 Axes>"
      ]
     },
     "metadata": {
      "needs_background": "light"
     },
     "output_type": "display_data"
    }
   ],
   "source": [
    "fig = plt.figure(figsize=(18,6))\n",
    "echelle = fig.add_subplot(1,2,1)\n",
    "echelle.set_xlim([0,5500])\n",
    "echelle.set_ylim([0,5])\n",
    "\n",
    "plt.hist(df_chansons[\"duration_ms\"]/(df_chansons[\"duration_ms\"].mean()),bins=4000,orientation='horizontal')\n",
    "plt.title('Duration Distribution')\n",
    "plt.xlabel('Nbr_Songs')\n",
    "plt.ylabel('Duration')\n",
    "plt.grid()\n",
    "plt.show()"
   ]
  },
  {
   "cell_type": "code",
   "execution_count": 28,
   "id": "6a1fcf84",
   "metadata": {},
   "outputs": [
    {
     "data": {
      "image/png": "[encoded data removed]",
      "text/plain": [
       "<Figure size 1296x432 with 1 Axes>"
      ]
     },
     "metadata": {
      "needs_background": "light"
     },
     "output_type": "display_data"
    }
   ],
   "source": [
    "fig = plt.figure(figsize=(18,6))\n",
    "echelle = fig.add_subplot(1,2,1)\n",
    "scaled_songs[\"tempo\"].plot(kind = 'hist',bins=2000)\n",
    "#echelle.set_xlim([0,1e6])\n",
    "echelle.set_ylim([0,2200])\n",
    "plt.title('Tempo Distribution')\n",
    "plt.ylabel('Frequency')\n",
    "plt.xlabel('Tempo')\n",
    "plt.show()"
   ]
  },
  {
   "cell_type": "code",
   "execution_count": 32,
   "id": "db708741",
   "metadata": {},
   "outputs": [
    {
     "data": {
      "image/png": "[encoded data removed]",
      "text/plain": [
       "<Figure size 1296x432 with 1 Axes>"
      ]
     },
     "metadata": {
      "needs_background": "light"
     },
     "output_type": "display_data"
    }
   ],
   "source": [
    "Songs_artist = df_chansons.value_counts(subset=['id_artists']).reset_index(name=\"count\")\n",
    "fig = plt.figure(figsize=(18,6))\n",
    "echelle = fig.add_subplot(1,2,1)\n",
    "Songs_artist[\"count\"].plot(kind = 'hist',bins=2500)\n",
    "echelle.set_xlim([0,120])\n",
    "echelle.set_ylim([0,13000])\n",
    "plt.title('# of songs per Singer')\n",
    "plt.xlabel('Nbr_Singers')\n",
    "plt.ylabel('Nbr_Songs')\n",
    "plt.show()"
   ]
  },
  {
   "cell_type": "markdown",
   "id": "db16a6ea",
   "metadata": {},
   "source": [
    "# Moustache"
   ]
  },
  {
   "cell_type": "code",
   "execution_count": 34,
   "id": "09b85e24",
   "metadata": {},
   "outputs": [
    {
     "data": {
      "text/plain": [
       "<AxesSubplot:>"
      ]
     },
     "execution_count": 34,
     "metadata": {},
     "output_type": "execute_result"
    },
    {
     "data": {
      "image/png": "[encoded data removed]",
      "text/plain": [
       "<Figure size 432x288 with 1 Axes>"
      ]
     },
     "metadata": {
      "needs_background": "light"
     },
     "output_type": "display_data"
    }
   ],
   "source": [
    "scaled_songs.boxplot(column =['popularity'], grid = False) "
   ]
  },
  {
   "cell_type": "code",
   "execution_count": 35,
   "id": "9379bc6a",
   "metadata": {},
   "outputs": [
    {
     "data": {
      "text/plain": [
       "<AxesSubplot:>"
      ]
     },
     "execution_count": 35,
     "metadata": {},
     "output_type": "execute_result"
    },
    {
     "data": {
      "image/png": "[encoded data removed]",
      "text/plain": [
       "<Figure size 432x288 with 1 Axes>"
      ]
     },
     "metadata": {
      "needs_background": "light"
     },
     "output_type": "display_data"
    }
   ],
   "source": [
    "scaled_singers.boxplot(column =['followers'], grid = False) "
   ]
  },
  {
   "cell_type": "markdown",
   "id": "14967db9",
   "metadata": {},
   "source": [
    "# Merging"
   ]
  },
  {
   "cell_type": "code",
   "execution_count": 36,
   "id": "954c56ca",
   "metadata": {},
   "outputs": [
    {
     "data": {
      "text/html": [
       "<div>\n",
       "<style scoped>\n",
       "    .dataframe tbody tr th:only-of-type {\n",
       "        vertical-align: middle;\n",
       "    }\n",
       "\n",
       "    .dataframe tbody tr th {\n",
       "        vertical-align: top;\n",
       "    }\n",
       "\n",
       "    .dataframe thead th {\n",
       "        text-align: right;\n",
       "    }\n",
       "</style>\n",
       "<table border=\"1\" class=\"dataframe\">\n",
       "  <thead>\n",
       "    <tr style=\"text-align: right;\">\n",
       "      <th></th>\n",
       "      <th>id</th>\n",
       "      <th>name</th>\n",
       "      <th>popularity</th>\n",
       "      <th>duration_ms</th>\n",
       "      <th>explicit</th>\n",
       "      <th>artists</th>\n",
       "      <th>id_artists</th>\n",
       "      <th>release_date</th>\n",
       "      <th>danceability</th>\n",
       "      <th>energy</th>\n",
       "      <th>key</th>\n",
       "      <th>loudness</th>\n",
       "      <th>mode</th>\n",
       "      <th>speechiness</th>\n",
       "      <th>acousticness</th>\n",
       "      <th>instrumentalness</th>\n",
       "      <th>liveness</th>\n",
       "      <th>valence</th>\n",
       "      <th>tempo</th>\n",
       "      <th>time_signature</th>\n",
       "    </tr>\n",
       "  </thead>\n",
       "  <tbody>\n",
       "    <tr>\n",
       "      <th>2</th>\n",
       "      <td>07A5yehtSnoedViJAZkNnc</td>\n",
       "      <td>Vivo para Quererte - Remasterizado</td>\n",
       "      <td>0</td>\n",
       "      <td>181640</td>\n",
       "      <td>0</td>\n",
       "      <td>Ignacio Corsini</td>\n",
       "      <td>5LiOoJbxVSAMkBS2fUm3X2</td>\n",
       "      <td>1922-03-21</td>\n",
       "      <td>0.43</td>\n",
       "      <td>0.18</td>\n",
       "      <td>1</td>\n",
       "      <td>-21.18</td>\n",
       "      <td>1</td>\n",
       "      <td>0.05</td>\n",
       "      <td>0.99</td>\n",
       "      <td>2.18e-02</td>\n",
       "      <td>0.21</td>\n",
       "      <td>0.46</td>\n",
       "      <td>130.42</td>\n",
       "      <td>5</td>\n",
       "    </tr>\n",
       "    <tr>\n",
       "      <th>3</th>\n",
       "      <td>08FmqUhxtyLTn6pAh6bk45</td>\n",
       "      <td>El Prisionero - Remasterizado</td>\n",
       "      <td>0</td>\n",
       "      <td>176907</td>\n",
       "      <td>0</td>\n",
       "      <td>Ignacio Corsini</td>\n",
       "      <td>5LiOoJbxVSAMkBS2fUm3X2</td>\n",
       "      <td>1922-03-21</td>\n",
       "      <td>0.32</td>\n",
       "      <td>0.09</td>\n",
       "      <td>7</td>\n",
       "      <td>-27.96</td>\n",
       "      <td>1</td>\n",
       "      <td>0.05</td>\n",
       "      <td>0.99</td>\n",
       "      <td>9.18e-01</td>\n",
       "      <td>0.10</td>\n",
       "      <td>0.40</td>\n",
       "      <td>169.98</td>\n",
       "      <td>3</td>\n",
       "    </tr>\n",
       "    <tr>\n",
       "      <th>4</th>\n",
       "      <td>08y9GfoqCWfOGsKdwojr5e</td>\n",
       "      <td>Lady of the Evening</td>\n",
       "      <td>0</td>\n",
       "      <td>163080</td>\n",
       "      <td>0</td>\n",
       "      <td>Dick Haymes</td>\n",
       "      <td>3BiJGZsyX9sJchTqcSA7Su</td>\n",
       "      <td>1922</td>\n",
       "      <td>0.40</td>\n",
       "      <td>0.16</td>\n",
       "      <td>3</td>\n",
       "      <td>-16.90</td>\n",
       "      <td>0</td>\n",
       "      <td>0.04</td>\n",
       "      <td>0.99</td>\n",
       "      <td>1.30e-01</td>\n",
       "      <td>0.31</td>\n",
       "      <td>0.20</td>\n",
       "      <td>103.22</td>\n",
       "      <td>4</td>\n",
       "    </tr>\n",
       "    <tr>\n",
       "      <th>5</th>\n",
       "      <td>0BRXJHRNGQ3W4v9frnSfhu</td>\n",
       "      <td>Ave Maria</td>\n",
       "      <td>0</td>\n",
       "      <td>178933</td>\n",
       "      <td>0</td>\n",
       "      <td>Dick Haymes</td>\n",
       "      <td>3BiJGZsyX9sJchTqcSA7Su</td>\n",
       "      <td>1922</td>\n",
       "      <td>0.23</td>\n",
       "      <td>0.26</td>\n",
       "      <td>5</td>\n",
       "      <td>-12.34</td>\n",
       "      <td>1</td>\n",
       "      <td>0.04</td>\n",
       "      <td>0.99</td>\n",
       "      <td>2.47e-01</td>\n",
       "      <td>0.10</td>\n",
       "      <td>0.05</td>\n",
       "      <td>118.89</td>\n",
       "      <td>4</td>\n",
       "    </tr>\n",
       "    <tr>\n",
       "      <th>7</th>\n",
       "      <td>0IA0Hju8CAgYfV1hwhidBH</td>\n",
       "      <td>La Java</td>\n",
       "      <td>0</td>\n",
       "      <td>161427</td>\n",
       "      <td>0</td>\n",
       "      <td>Mistinguett</td>\n",
       "      <td>4AxgXfD7ISvJSTObqm4aIE</td>\n",
       "      <td>1922</td>\n",
       "      <td>0.56</td>\n",
       "      <td>0.18</td>\n",
       "      <td>4</td>\n",
       "      <td>-13.76</td>\n",
       "      <td>1</td>\n",
       "      <td>0.05</td>\n",
       "      <td>0.99</td>\n",
       "      <td>1.55e-05</td>\n",
       "      <td>0.33</td>\n",
       "      <td>0.65</td>\n",
       "      <td>133.09</td>\n",
       "      <td>3</td>\n",
       "    </tr>\n",
       "    <tr>\n",
       "      <th>...</th>\n",
       "      <td>...</td>\n",
       "      <td>...</td>\n",
       "      <td>...</td>\n",
       "      <td>...</td>\n",
       "      <td>...</td>\n",
       "      <td>...</td>\n",
       "      <td>...</td>\n",
       "      <td>...</td>\n",
       "      <td>...</td>\n",
       "      <td>...</td>\n",
       "      <td>...</td>\n",
       "      <td>...</td>\n",
       "      <td>...</td>\n",
       "      <td>...</td>\n",
       "      <td>...</td>\n",
       "      <td>...</td>\n",
       "      <td>...</td>\n",
       "      <td>...</td>\n",
       "      <td>...</td>\n",
       "      <td>...</td>\n",
       "    </tr>\n",
       "    <tr>\n",
       "      <th>586665</th>\n",
       "      <td>0SjsIzJkZfDU7wlcdklEFR</td>\n",
       "      <td>John Brown's Song</td>\n",
       "      <td>66</td>\n",
       "      <td>185250</td>\n",
       "      <td>0</td>\n",
       "      <td>Gregory Oberle</td>\n",
       "      <td>4MxqhahGRT4BPz1PilXGeu</td>\n",
       "      <td>2020-03-20</td>\n",
       "      <td>0.56</td>\n",
       "      <td>0.03</td>\n",
       "      <td>1</td>\n",
       "      <td>-25.55</td>\n",
       "      <td>1</td>\n",
       "      <td>0.10</td>\n",
       "      <td>1.00</td>\n",
       "      <td>9.61e-01</td>\n",
       "      <td>0.11</td>\n",
       "      <td>0.39</td>\n",
       "      <td>63.70</td>\n",
       "      <td>3</td>\n",
       "    </tr>\n",
       "    <tr>\n",
       "      <th>586667</th>\n",
       "      <td>5rgu12WBIHQtvej2MdHSH0</td>\n",
       "      <td>云与海</td>\n",
       "      <td>50</td>\n",
       "      <td>258267</td>\n",
       "      <td>0</td>\n",
       "      <td>阿YueYue</td>\n",
       "      <td>1QLBXKM5GCpyQQSVMNZqrZ</td>\n",
       "      <td>2020-09-26</td>\n",
       "      <td>0.56</td>\n",
       "      <td>0.52</td>\n",
       "      <td>0</td>\n",
       "      <td>-7.47</td>\n",
       "      <td>0</td>\n",
       "      <td>0.03</td>\n",
       "      <td>0.79</td>\n",
       "      <td>0.00e+00</td>\n",
       "      <td>0.06</td>\n",
       "      <td>0.21</td>\n",
       "      <td>131.90</td>\n",
       "      <td>4</td>\n",
       "    </tr>\n",
       "    <tr>\n",
       "      <th>586668</th>\n",
       "      <td>0NuWgxEp51CutD2pJoF4OM</td>\n",
       "      <td>blind</td>\n",
       "      <td>72</td>\n",
       "      <td>153293</td>\n",
       "      <td>0</td>\n",
       "      <td>ROLE MODEL</td>\n",
       "      <td>1dy5WNgIKQU6ezkpZs4y8z</td>\n",
       "      <td>2020-10-21</td>\n",
       "      <td>0.77</td>\n",
       "      <td>0.66</td>\n",
       "      <td>0</td>\n",
       "      <td>-5.22</td>\n",
       "      <td>1</td>\n",
       "      <td>0.07</td>\n",
       "      <td>0.14</td>\n",
       "      <td>2.97e-04</td>\n",
       "      <td>0.09</td>\n",
       "      <td>0.69</td>\n",
       "      <td>150.09</td>\n",
       "      <td>4</td>\n",
       "    </tr>\n",
       "    <tr>\n",
       "      <th>586669</th>\n",
       "      <td>27Y1N4Q4U3EfDU5Ubw8ws2</td>\n",
       "      <td>What They'll Say About Us</td>\n",
       "      <td>70</td>\n",
       "      <td>187601</td>\n",
       "      <td>0</td>\n",
       "      <td>FINNEAS</td>\n",
       "      <td>37M5pPGs6V1fchFJSgCguX</td>\n",
       "      <td>2020-09-02</td>\n",
       "      <td>0.54</td>\n",
       "      <td>0.31</td>\n",
       "      <td>7</td>\n",
       "      <td>-12.82</td>\n",
       "      <td>0</td>\n",
       "      <td>0.04</td>\n",
       "      <td>0.90</td>\n",
       "      <td>1.50e-04</td>\n",
       "      <td>0.09</td>\n",
       "      <td>0.07</td>\n",
       "      <td>145.09</td>\n",
       "      <td>4</td>\n",
       "    </tr>\n",
       "    <tr>\n",
       "      <th>586671</th>\n",
       "      <td>5Ocn6dZ3BJFPWh4ylwFXtn</td>\n",
       "      <td>Mar de Emociones</td>\n",
       "      <td>38</td>\n",
       "      <td>214360</td>\n",
       "      <td>0</td>\n",
       "      <td>Afrosound</td>\n",
       "      <td>0i4Qda0k4nf7jnNHmSNpYv</td>\n",
       "      <td>2015-07-01</td>\n",
       "      <td>0.69</td>\n",
       "      <td>0.72</td>\n",
       "      <td>6</td>\n",
       "      <td>-7.07</td>\n",
       "      <td>1</td>\n",
       "      <td>0.04</td>\n",
       "      <td>0.10</td>\n",
       "      <td>0.00e+00</td>\n",
       "      <td>0.26</td>\n",
       "      <td>0.97</td>\n",
       "      <td>112.20</td>\n",
       "      <td>4</td>\n",
       "    </tr>\n",
       "  </tbody>\n",
       "</table>\n",
       "<p>455173 rows × 20 columns</p>\n",
       "</div>"
      ],
      "text/plain": [
       "                            id                                name  \\\n",
       "2       07A5yehtSnoedViJAZkNnc  Vivo para Quererte - Remasterizado   \n",
       "3       08FmqUhxtyLTn6pAh6bk45       El Prisionero - Remasterizado   \n",
       "4       08y9GfoqCWfOGsKdwojr5e                 Lady of the Evening   \n",
       "5       0BRXJHRNGQ3W4v9frnSfhu                           Ave Maria   \n",
       "7       0IA0Hju8CAgYfV1hwhidBH                             La Java   \n",
       "...                        ...                                 ...   \n",
       "586665  0SjsIzJkZfDU7wlcdklEFR                   John Brown's Song   \n",
       "586667  5rgu12WBIHQtvej2MdHSH0                                 云与海   \n",
       "586668  0NuWgxEp51CutD2pJoF4OM                               blind   \n",
       "586669  27Y1N4Q4U3EfDU5Ubw8ws2           What They'll Say About Us   \n",
       "586671  5Ocn6dZ3BJFPWh4ylwFXtn                    Mar de Emociones   \n",
       "\n",
       "        popularity  duration_ms  explicit          artists  \\\n",
       "2                0       181640         0  Ignacio Corsini   \n",
       "3                0       176907         0  Ignacio Corsini   \n",
       "4                0       163080         0      Dick Haymes   \n",
       "5                0       178933         0      Dick Haymes   \n",
       "7                0       161427         0      Mistinguett   \n",
       "...            ...          ...       ...              ...   \n",
       "586665          66       185250         0   Gregory Oberle   \n",
       "586667          50       258267         0          阿YueYue   \n",
       "586668          72       153293         0       ROLE MODEL   \n",
       "586669          70       187601         0          FINNEAS   \n",
       "586671          38       214360         0        Afrosound   \n",
       "\n",
       "                    id_artists release_date  danceability  energy  key  \\\n",
       "2       5LiOoJbxVSAMkBS2fUm3X2   1922-03-21          0.43    0.18    1   \n",
       "3       5LiOoJbxVSAMkBS2fUm3X2   1922-03-21          0.32    0.09    7   \n",
       "4       3BiJGZsyX9sJchTqcSA7Su         1922          0.40    0.16    3   \n",
       "5       3BiJGZsyX9sJchTqcSA7Su         1922          0.23    0.26    5   \n",
       "7       4AxgXfD7ISvJSTObqm4aIE         1922          0.56    0.18    4   \n",
       "...                        ...          ...           ...     ...  ...   \n",
       "586665  4MxqhahGRT4BPz1PilXGeu   2020-03-20          0.56    0.03    1   \n",
       "586667  1QLBXKM5GCpyQQSVMNZqrZ   2020-09-26          0.56    0.52    0   \n",
       "586668  1dy5WNgIKQU6ezkpZs4y8z   2020-10-21          0.77    0.66    0   \n",
       "586669  37M5pPGs6V1fchFJSgCguX   2020-09-02          0.54    0.31    7   \n",
       "586671  0i4Qda0k4nf7jnNHmSNpYv   2015-07-01          0.69    0.72    6   \n",
       "\n",
       "        loudness  mode  speechiness  acousticness  instrumentalness  liveness  \\\n",
       "2         -21.18     1         0.05          0.99          2.18e-02      0.21   \n",
       "3         -27.96     1         0.05          0.99          9.18e-01      0.10   \n",
       "4         -16.90     0         0.04          0.99          1.30e-01      0.31   \n",
       "5         -12.34     1         0.04          0.99          2.47e-01      0.10   \n",
       "7         -13.76     1         0.05          0.99          1.55e-05      0.33   \n",
       "...          ...   ...          ...           ...               ...       ...   \n",
       "586665    -25.55     1         0.10          1.00          9.61e-01      0.11   \n",
       "586667     -7.47     0         0.03          0.79          0.00e+00      0.06   \n",
       "586668     -5.22     1         0.07          0.14          2.97e-04      0.09   \n",
       "586669    -12.82     0         0.04          0.90          1.50e-04      0.09   \n",
       "586671     -7.07     1         0.04          0.10          0.00e+00      0.26   \n",
       "\n",
       "        valence   tempo  time_signature  \n",
       "2          0.46  130.42               5  \n",
       "3          0.40  169.98               3  \n",
       "4          0.20  103.22               4  \n",
       "5          0.05  118.89               4  \n",
       "7          0.65  133.09               3  \n",
       "...         ...     ...             ...  \n",
       "586665     0.39   63.70               3  \n",
       "586667     0.21  131.90               4  \n",
       "586668     0.69  150.09               4  \n",
       "586669     0.07  145.09               4  \n",
       "586671     0.97  112.20               4  \n",
       "\n",
       "[455173 rows x 20 columns]"
      ]
     },
     "execution_count": 36,
     "metadata": {},
     "output_type": "execute_result"
    }
   ],
   "source": [
    "real_subset"
   ]
  },
  {
   "cell_type": "code",
   "execution_count": 37,
   "id": "737d76a1",
   "metadata": {},
   "outputs": [],
   "source": [
    "input = pd.merge(real_subset, df_artistes[['id', 'name', 'popularity','followers']], \n",
    "                 left_on=\"id_artists\", right_on=\"id\", how=\"left\")"
   ]
  },
  {
   "cell_type": "code",
   "execution_count": 38,
   "id": "3a7ef67c",
   "metadata": {},
   "outputs": [],
   "source": [
    "input_noNA = input.dropna()"
   ]
  },
  {
   "cell_type": "code",
   "execution_count": 39,
   "id": "3005a47e",
   "metadata": {},
   "outputs": [
    {
     "data": {
      "text/html": [
       "<div>\n",
       "<style scoped>\n",
       "    .dataframe tbody tr th:only-of-type {\n",
       "        vertical-align: middle;\n",
       "    }\n",
       "\n",
       "    .dataframe tbody tr th {\n",
       "        vertical-align: top;\n",
       "    }\n",
       "\n",
       "    .dataframe thead th {\n",
       "        text-align: right;\n",
       "    }\n",
       "</style>\n",
       "<table border=\"1\" class=\"dataframe\">\n",
       "  <thead>\n",
       "    <tr style=\"text-align: right;\">\n",
       "      <th></th>\n",
       "      <th>id_artists</th>\n",
       "      <th>count</th>\n",
       "    </tr>\n",
       "  </thead>\n",
       "  <tbody>\n",
       "    <tr>\n",
       "      <th>0</th>\n",
       "      <td>61JrslREXq98hurYL2hYoc</td>\n",
       "      <td>1070</td>\n",
       "    </tr>\n",
       "    <tr>\n",
       "      <th>1</th>\n",
       "      <td>2maQMqxNnlRrBrS1oAsrX9</td>\n",
       "      <td>845</td>\n",
       "    </tr>\n",
       "    <tr>\n",
       "      <th>2</th>\n",
       "      <td>5V0MlUE1Bft0mbLlND7FJz</td>\n",
       "      <td>731</td>\n",
       "    </tr>\n",
       "    <tr>\n",
       "      <th>3</th>\n",
       "      <td>0gXDpqwYNDODn7fB0RDN8J</td>\n",
       "      <td>564</td>\n",
       "    </tr>\n",
       "    <tr>\n",
       "      <th>4</th>\n",
       "      <td>1Mxqyy3pSjf8kZZL4QVxS0</td>\n",
       "      <td>539</td>\n",
       "    </tr>\n",
       "    <tr>\n",
       "      <th>...</th>\n",
       "      <td>...</td>\n",
       "      <td>...</td>\n",
       "    </tr>\n",
       "    <tr>\n",
       "      <th>50995</th>\n",
       "      <td>57l2t5t0sKKuIrTQhoSPpg</td>\n",
       "      <td>1</td>\n",
       "    </tr>\n",
       "    <tr>\n",
       "      <th>50996</th>\n",
       "      <td>37fG1EQuwb6zBHyFYUGfj8</td>\n",
       "      <td>1</td>\n",
       "    </tr>\n",
       "    <tr>\n",
       "      <th>50997</th>\n",
       "      <td>57iZ4HvaVKP7d3RxScmquK</td>\n",
       "      <td>1</td>\n",
       "    </tr>\n",
       "    <tr>\n",
       "      <th>50998</th>\n",
       "      <td>57hIq5FJN5AnhahUz2fLCt</td>\n",
       "      <td>1</td>\n",
       "    </tr>\n",
       "    <tr>\n",
       "      <th>50999</th>\n",
       "      <td>0001ZVMPt41Vwzt1zsmuzp</td>\n",
       "      <td>1</td>\n",
       "    </tr>\n",
       "  </tbody>\n",
       "</table>\n",
       "<p>51000 rows × 2 columns</p>\n",
       "</div>"
      ],
      "text/plain": [
       "                   id_artists  count\n",
       "0      61JrslREXq98hurYL2hYoc   1070\n",
       "1      2maQMqxNnlRrBrS1oAsrX9    845\n",
       "2      5V0MlUE1Bft0mbLlND7FJz    731\n",
       "3      0gXDpqwYNDODn7fB0RDN8J    564\n",
       "4      1Mxqyy3pSjf8kZZL4QVxS0    539\n",
       "...                       ...    ...\n",
       "50995  57l2t5t0sKKuIrTQhoSPpg      1\n",
       "50996  37fG1EQuwb6zBHyFYUGfj8      1\n",
       "50997  57iZ4HvaVKP7d3RxScmquK      1\n",
       "50998  57hIq5FJN5AnhahUz2fLCt      1\n",
       "50999  0001ZVMPt41Vwzt1zsmuzp      1\n",
       "\n",
       "[51000 rows x 2 columns]"
      ]
     },
     "execution_count": 39,
     "metadata": {},
     "output_type": "execute_result"
    }
   ],
   "source": [
    "input_noNA.value_counts(subset=['id_artists']).reset_index(name=\"count\")"
   ]
  },
  {
   "cell_type": "markdown",
   "id": "2f256ff3",
   "metadata": {},
   "source": [
    "# Learning"
   ]
  },
  {
   "cell_type": "code",
   "execution_count": 40,
   "id": "ac3f19c3",
   "metadata": {},
   "outputs": [],
   "source": [
    "from sklearn.model_selection import train_test_split\n",
    "from sklearn.linear_model import LinearRegression\n",
    "#from sklearn.linear_model import LogisticRegression\n",
    "#from sklearn.neighbors import KNeighborsClassifier\n",
    "#from sklearn.tree import DecisionTreeClassifier\n",
    "#from sklearn.neural_network import MLPClassifier\n",
    "#from sklearn.svm import SVC\n",
    "from sklearn.metrics import r2_score"
   ]
  },
  {
   "cell_type": "code",
   "execution_count": 41,
   "id": "030bb613",
   "metadata": {},
   "outputs": [],
   "source": [
    "XX=input_noNA.drop(columns=['popularity_x', 'id_x', 'name_x', 'artists', \n",
    "                           'id_artists', 'release_date','id_y', 'name_y'], axis=1)\n",
    "\n",
    "# By-pass use to solve issue with Scaler step\n",
    "ybypass = pd.DataFrame(input_noNA.iloc[:, 2:4].values)"
   ]
  },
  {
   "cell_type": "code",
   "execution_count": 42,
   "id": "62be7994",
   "metadata": {},
   "outputs": [],
   "source": [
    "scaler = StandardScaler()\n",
    "XX = pd.DataFrame(scaler.fit_transform(XX), columns=XX.columns)\n",
    "\n",
    "y1 = pd.DataFrame(scaler.fit_transform(ybypass), columns=ybypass.columns)\n",
    "yy = y1.iloc[:, 0].values"
   ]
  },
  {
   "cell_type": "code",
   "execution_count": 43,
   "id": "73f5db32",
   "metadata": {},
   "outputs": [],
   "source": [
    "XX_train, XX_test, yy_train, yy_test = train_test_split(XX, yy, test_size=0.2, random_state=0)"
   ]
  },
  {
   "cell_type": "code",
   "execution_count": 44,
   "id": "e8728a33",
   "metadata": {},
   "outputs": [
    {
     "data": {
      "text/plain": [
       "LinearRegression()"
      ]
     },
     "execution_count": 44,
     "metadata": {},
     "output_type": "execute_result"
    }
   ],
   "source": [
    "regressor = LinearRegression(fit_intercept=True)\n",
    "regressor.fit(XX_train, yy_train)"
   ]
  },
  {
   "cell_type": "code",
   "execution_count": 45,
   "id": "17843658",
   "metadata": {},
   "outputs": [],
   "source": [
    "yy_pred=regressor.predict(XX_test)"
   ]
  },
  {
   "cell_type": "code",
   "execution_count": 46,
   "id": "c4909a9d",
   "metadata": {},
   "outputs": [
    {
     "data": {
      "text/plain": [
       "0.438945418106224"
      ]
     },
     "execution_count": 46,
     "metadata": {},
     "output_type": "execute_result"
    }
   ],
   "source": [
    "r2_score(yy_test, yy_pred)"
   ]
  },
  {
   "cell_type": "code",
   "execution_count": 47,
   "id": "f022700b",
   "metadata": {},
   "outputs": [
    {
     "data": {
      "image/png": "[encoded data removed]",
      "text/plain": [
       "<Figure size 432x288 with 1 Axes>"
      ]
     },
     "metadata": {
      "needs_background": "light"
     },
     "output_type": "display_data"
    }
   ],
   "source": [
    "plt.scatter(yy_test, yy_pred)\n",
    "plt.show()"
   ]
  },
  {
   "cell_type": "code",
   "execution_count": 49,
   "id": "08be2227",
   "metadata": {},
   "outputs": [
    {
     "data": {
      "text/plain": [
       "0.5591033377425364"
      ]
     },
     "execution_count": 49,
     "metadata": {},
     "output_type": "execute_result"
    }
   ],
   "source": [
    "from sklearn.metrics import mean_squared_error\n",
    "MSE = mean_squared_error(yy_test, yy_pred)\n",
    "MSE"
   ]
  },
  {
   "cell_type": "code",
   "execution_count": 50,
   "id": "5c5fc649",
   "metadata": {},
   "outputs": [
    {
     "data": {
      "text/plain": [
       "0.7477321296711386"
      ]
     },
     "execution_count": 50,
     "metadata": {},
     "output_type": "execute_result"
    }
   ],
   "source": [
    "RMSE = mean_squared_error(yy_test, yy_pred, squared=False)\n",
    "RMSE"
   ]
  },
  {
   "cell_type": "code",
   "execution_count": 52,
   "id": "fbe06db9",
   "metadata": {},
   "outputs": [
    {
     "name": "stdout",
     "output_type": "stream",
     "text": [
      "R2: 0.438945418106224\n",
      "intercept: 0.00020247083051999604\n",
      "slope: [ 0.02630671  0.06244717  0.14315745 -0.00278663  0.0061908   0.13783125\n",
      " -0.00347221 -0.01128203 -0.14111794 -0.04836956 -0.05050598 -0.13059832\n",
      "  0.0279303   0.00265484  0.50570386  0.00898684]\n"
     ]
    }
   ],
   "source": [
    "print('R2:', regressor.score(XX_test, yy_test))\n",
    "print('intercept:', regressor.intercept_)\n",
    "print('slope:', regressor.coef_)"
   ]
  },
  {
   "cell_type": "code",
   "execution_count": null,
   "id": "8788524e",
   "metadata": {},
   "outputs": [],
   "source": []
  },
  {
   "cell_type": "code",
   "execution_count": 54,
   "id": "20752718",
   "metadata": {},
   "outputs": [
    {
     "data": {
      "image/png": "[encoded data removed]",
      "text/plain": [
       "<Figure size 432x288 with 1 Axes>"
      ]
     },
     "metadata": {
      "needs_background": "light"
     },
     "output_type": "display_data"
    }
   ],
   "source": [
    "plt.plot(yy_test, yy_test - yy_pred,'.')\n",
    "plt.show()"
   ]
  },
  {
   "cell_type": "code",
   "execution_count": null,
   "id": "1923427e",
   "metadata": {},
   "outputs": [],
   "source": []
  }
 ],
 "metadata": {
  "kernelspec": {
   "display_name": "Python 3",
   "language": "python",
   "name": "python3"
  },
  "language_info": {
   "codemirror_mode": {
    "name": "ipython",
    "version": 3
   },
   "file_extension": ".py",
   "mimetype": "text/x-python",
   "name": "python",
   "nbconvert_exporter": "python",
   "pygments_lexer": "ipython3",
   "version": "3.8.10"
  }
 },
 "nbformat": 4,
 "nbformat_minor": 5
}
